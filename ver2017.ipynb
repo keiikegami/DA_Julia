{
 "cells": [
  {
   "cell_type": "code",
   "execution_count": 63,
   "metadata": {
    "collapsed": false
   },
   "outputs": [
    {
     "data": {
      "text/plain": [
       "3-element Array{Array{Int64,1},1}:\n",
       " [2,3]    \n",
       " [2,3,4,1]\n",
       " [4,1,2]  "
      ]
     },
     "execution_count": 63,
     "metadata": {},
     "output_type": "execute_result"
    }
   ],
   "source": [
    "m_prefs = [[3], [3, 2, 1], [1, 3, 2], [3, 1]]\n",
    "f_prefs = [[2, 3], [2, 3, 4, 1], [4, 1, 2]]"
   ]
  },
  {
   "cell_type": "code",
   "execution_count": 64,
   "metadata": {
    "collapsed": false
   },
   "outputs": [
    {
     "data": {
      "text/plain": [
       "3"
      ]
     },
     "execution_count": 64,
     "metadata": {},
     "output_type": "execute_result"
    }
   ],
   "source": [
    "m = length(m_prefs)\n",
    "n = length(f_prefs)"
   ]
  },
  {
   "cell_type": "code",
   "execution_count": 47,
   "metadata": {
    "collapsed": false
   },
   "outputs": [
    {
     "name": "stdout",
     "output_type": "stream",
     "text": [
      "1\n",
      "3\n",
      "3\n",
      "2\n"
     ]
    }
   ],
   "source": [
    "for (t,i) in enumerate(m_prefs)\n",
    "    if length(i) != n\n",
    "        new_element = Array(Int, n+1-length(i))\n",
    "        new_element[1] = 0\n",
    "        new_element[2:end] = [j for j in range(1,n) if !(j in i)]\n",
    "        m_prefs[t] = append!(i, new_element)\n",
    "    else\n",
    "        m_prefs[t] = push!(i, 0)\n",
    "    end\n",
    "end"
   ]
  },
  {
   "cell_type": "code",
   "execution_count": 61,
   "metadata": {
    "collapsed": false
   },
   "outputs": [],
   "source": [
    "m_prefs_2d = Matrix{Int64}(n+1, m)\n",
    "for (t,i) in enumerate(m_prefs)\n",
    "    m_prefs_2d[:, t] = i\n",
    "end"
   ]
  },
  {
   "cell_type": "code",
   "execution_count": 65,
   "metadata": {
    "collapsed": true
   },
   "outputs": [],
   "source": [
    "m_prefs_2d = Matrix{Int64}(n+1, m)\n",
    "n_prefs_2d = Matrix{Int64}(m+1, n)\n",
    "d2 = [m_prefs_2d, n_prefs_2d]\n",
    "d1 = [m_prefs, n_prefs]\n",
    "num = [m, n]\n",
    "for (q,d) in enumerate(d1)\n",
    "    for (t,i) in enumerate(d)\n",
    "        if length(i) != num[q]\n",
    "            new_element = Array(Int, num[q]+1-length(i))\n",
    "            new_element[1] = 0\n",
    "            new_element[2:end] = [j for j in range(1,n) if !(j in i)]\n",
    "            m_prefs[t] = append!(i, new_element)\n",
    "        else\n",
    "            m_prefs[t] = push!(i, 0)\n",
    "        end\n",
    "        m_prefs_2d[:, t] = m_prefs[t]\n",
    "    end\n"
   ]
  },
  {
   "cell_type": "code",
   "execution_count": 66,
   "metadata": {
    "collapsed": false
   },
   "outputs": [
    {
     "data": {
      "text/plain": [
       "4×4 Array{Int64,2}:\n",
       " 3  3  1  3\n",
       " 0  2  3  1\n",
       " 1  1  2  0\n",
       " 2  0  0  2"
      ]
     },
     "execution_count": 66,
     "metadata": {},
     "output_type": "execute_result"
    }
   ],
   "source": [
    "m_prefs_2d"
   ]
  },
  {
   "cell_type": "code",
   "execution_count": 51,
   "metadata": {
    "collapsed": false
   },
   "outputs": [
    {
     "ename": "LoadError",
     "evalue": "MethodError: Cannot `convert` an object of type Array{Array{Int64,1},1} to an object of type Array{T,2}\nThis may have arisen from a call to the constructor Array{T,2}(...),\nsince type constructors fall back to convert methods.",
     "output_type": "error",
     "traceback": [
      "MethodError: Cannot `convert` an object of type Array{Array{Int64,1},1} to an object of type Array{T,2}\nThis may have arisen from a call to the constructor Array{T,2}(...),\nsince type constructors fall back to convert methods.",
      ""
     ]
    }
   ],
   "source": [
    "convert(Matrix, m_prefs)"
   ]
  },
  {
   "cell_type": "code",
   "execution_count": 11,
   "metadata": {
    "collapsed": false
   },
   "outputs": [
    {
     "ename": "LoadError",
     "evalue": "UndefVarError: collection not defined",
     "output_type": "error",
     "traceback": [
      "UndefVarError: collection not defined",
      ""
     ]
    }
   ],
   "source": [
    "collection(range(4))"
   ]
  },
  {
   "cell_type": "code",
   "execution_count": 21,
   "metadata": {
    "collapsed": false
   },
   "outputs": [
    {
     "data": {
      "text/plain": [
       "3-element Array{Int64,1}:\n",
       " 2\n",
       " 3\n",
       " 4"
      ]
     },
     "execution_count": 21,
     "metadata": {},
     "output_type": "execute_result"
    }
   ],
   "source": [
    "collect(range(1,4))[2:end]"
   ]
  },
  {
   "cell_type": "code",
   "execution_count": 16,
   "metadata": {
    "collapsed": false
   },
   "outputs": [
    {
     "data": {
      "text/plain": [
       "4-element Array{Int64,1}:\n",
       " 4511964784\n",
       " 4509306640\n",
       " 4509304240\n",
       " 4509304816"
      ]
     },
     "execution_count": 16,
     "metadata": {},
     "output_type": "execute_result"
    }
   ],
   "source": [
    "Array(Int, 4)"
   ]
  },
  {
   "cell_type": "code",
   "execution_count": 38,
   "metadata": {
    "collapsed": false
   },
   "outputs": [
    {
     "data": {
      "text/plain": [
       "2-element Array{Int64,1}:\n",
       " 1\n",
       " 5"
      ]
     },
     "execution_count": 38,
     "metadata": {},
     "output_type": "execute_result"
    }
   ],
   "source": [
    "[i for i in range(1,5) if !(i in range(2,3))]"
   ]
  },
  {
   "cell_type": "code",
   "execution_count": 1,
   "metadata": {
    "collapsed": false
   },
   "outputs": [
    {
     "ename": "LoadError",
     "evalue": "DefferedAcceptance is not an installed package",
     "output_type": "error",
     "traceback": [
      "DefferedAcceptance is not an installed package",
      "",
      " in #test#61(::Bool, ::Function, ::Array{AbstractString,1}) at ./pkg/entry.jl:740",
      " in (::Base.Pkg.Entry.#kw##test)(::Array{Any,1}, ::Base.Pkg.Entry.#test, ::Array{AbstractString,1}) at ./<missing>:0",
      " in (::Base.Pkg.Dir.##2#3{Array{Any,1},Base.Pkg.Entry.#test,Tuple{Array{AbstractString,1}}})() at ./pkg/dir.jl:31",
      " in cd(::Base.Pkg.Dir.##2#3{Array{Any,1},Base.Pkg.Entry.#test,Tuple{Array{AbstractString,1}}}, ::String) at ./file.jl:59",
      " in #cd#1(::Array{Any,1}, ::Function, ::Function, ::Array{AbstractString,1}, ::Vararg{Array{AbstractString,1},N}) at ./pkg/dir.jl:31",
      " in (::Base.Pkg.Dir.#kw##cd)(::Array{Any,1}, ::Base.Pkg.Dir.#cd, ::Function, ::Array{AbstractString,1}, ::Vararg{Array{AbstractString,1},N}) at ./<missing>:0",
      " in #test#3(::Bool, ::Function, ::String, ::Vararg{String,N}) at ./pkg/pkg.jl:258",
      " in test(::String, ::Vararg{String,N}) at ./pkg/pkg.jl:258"
     ]
    }
   ],
   "source": [
    "Pkg.test(\"DefferedAcceptance\")"
   ]
  },
  {
   "cell_type": "code",
   "execution_count": null,
   "metadata": {
    "collapsed": true
   },
   "outputs": [],
   "source": []
  }
 ],
 "metadata": {
  "kernelspec": {
   "display_name": "Julia 0.5.0",
   "language": "julia",
   "name": "julia-0.5"
  },
  "language_info": {
   "file_extension": ".jl",
   "mimetype": "application/julia",
   "name": "julia",
   "version": "0.5.0"
  }
 },
 "nbformat": 4,
 "nbformat_minor": 0
}
