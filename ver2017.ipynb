{
 "cells": [
  {
   "cell_type": "code",
   "execution_count": 2,
   "metadata": {
    "collapsed": false
   },
   "outputs": [
    {
     "data": {
      "text/plain": [
       "3-element Array{Array{Int64,1},1}:\n",
       " [2,3]    \n",
       " [2,3,4,1]\n",
       " [4,1,2]  "
      ]
     },
     "execution_count": 2,
     "metadata": {},
     "output_type": "execute_result"
    }
   ],
   "source": [
    "m_prefs = [[3], [3, 2, 1], [1, 3, 2], [3, 1]]\n",
    "f_prefs = [[2, 3], [2, 3, 4, 1], [4, 1, 2]]"
   ]
  },
  {
   "cell_type": "code",
   "execution_count": 64,
   "metadata": {
    "collapsed": false
   },
   "outputs": [
    {
     "data": {
      "text/plain": [
       "3"
      ]
     },
     "execution_count": 64,
     "metadata": {},
     "output_type": "execute_result"
    }
   ],
   "source": [
    "m = length(m_prefs)\n",
    "n = length(f_prefs)"
   ]
  },
  {
   "cell_type": "code",
   "execution_count": 47,
   "metadata": {
    "collapsed": false
   },
   "outputs": [
    {
     "name": "stdout",
     "output_type": "stream",
     "text": [
      "1\n",
      "3\n",
      "3\n",
      "2\n"
     ]
    }
   ],
   "source": [
    "for (t,i) in enumerate(m_prefs)\n",
    "    if length(i) != n\n",
    "        new_element = Array(Int, n+1-length(i))\n",
    "        new_element[1] = 0\n",
    "        new_element[2:end] = [j for j in range(1,n) if !(j in i)]\n",
    "        m_prefs[t] = append!(i, new_element)\n",
    "    else\n",
    "        m_prefs[t] = push!(i, 0)\n",
    "    end\n",
    "end"
   ]
  },
  {
   "cell_type": "code",
   "execution_count": 61,
   "metadata": {
    "collapsed": false
   },
   "outputs": [],
   "source": [
    "m_prefs_2d = Matrix{Int64}(n+1, m)\n",
    "for (t,i) in enumerate(m_prefs)\n",
    "    m_prefs_2d[:, t] = i\n",
    "end"
   ]
  },
  {
   "cell_type": "code",
   "execution_count": 65,
   "metadata": {
    "collapsed": true
   },
   "outputs": [],
   "source": [
    "m_prefs_2d = Matrix{Int64}(n+1, m)\n",
    "n_prefs_2d = Matrix{Int64}(m+1, n)\n",
    "d2 = [m_prefs_2d, n_prefs_2d]\n",
    "d1 = [m_prefs, n_prefs]\n",
    "num = [m, n]\n",
    "for (q,d) in enumerate(d1)\n",
    "    for (t,i) in enumerate(d)\n",
    "        if length(i) != num[q]\n",
    "            new_element = Array(Int, num[q]+1-length(i))\n",
    "            new_element[1] = 0\n",
    "            new_element[2:end] = [j for j in range(1,n) if !(j in i)]\n",
    "            m_prefs[t] = append!(i, new_element)\n",
    "        else\n",
    "            m_prefs[t] = push!(i, 0)\n",
    "        end\n",
    "        m_prefs_2d[:, t] = m_prefs[t]\n",
    "    end\n"
   ]
  },
  {
   "cell_type": "code",
   "execution_count": 66,
   "metadata": {
    "collapsed": false
   },
   "outputs": [
    {
     "data": {
      "text/plain": [
       "4×4 Array{Int64,2}:\n",
       " 3  3  1  3\n",
       " 0  2  3  1\n",
       " 1  1  2  0\n",
       " 2  0  0  2"
      ]
     },
     "execution_count": 66,
     "metadata": {},
     "output_type": "execute_result"
    }
   ],
   "source": [
    "m_prefs_2d"
   ]
  },
  {
   "cell_type": "code",
   "execution_count": 51,
   "metadata": {
    "collapsed": false
   },
   "outputs": [
    {
     "ename": "LoadError",
     "evalue": "MethodError: Cannot `convert` an object of type Array{Array{Int64,1},1} to an object of type Array{T,2}\nThis may have arisen from a call to the constructor Array{T,2}(...),\nsince type constructors fall back to convert methods.",
     "output_type": "error",
     "traceback": [
      "MethodError: Cannot `convert` an object of type Array{Array{Int64,1},1} to an object of type Array{T,2}\nThis may have arisen from a call to the constructor Array{T,2}(...),\nsince type constructors fall back to convert methods.",
      ""
     ]
    }
   ],
   "source": [
    "convert(Matrix, m_prefs)"
   ]
  },
  {
   "cell_type": "code",
   "execution_count": 11,
   "metadata": {
    "collapsed": false
   },
   "outputs": [
    {
     "ename": "LoadError",
     "evalue": "UndefVarError: collection not defined",
     "output_type": "error",
     "traceback": [
      "UndefVarError: collection not defined",
      ""
     ]
    }
   ],
   "source": [
    "collection(range(4))"
   ]
  },
  {
   "cell_type": "code",
   "execution_count": 21,
   "metadata": {
    "collapsed": false
   },
   "outputs": [
    {
     "data": {
      "text/plain": [
       "3-element Array{Int64,1}:\n",
       " 2\n",
       " 3\n",
       " 4"
      ]
     },
     "execution_count": 21,
     "metadata": {},
     "output_type": "execute_result"
    }
   ],
   "source": [
    "collect(range(1,4))[2:end]"
   ]
  },
  {
   "cell_type": "code",
   "execution_count": 16,
   "metadata": {
    "collapsed": false
   },
   "outputs": [
    {
     "data": {
      "text/plain": [
       "4-element Array{Int64,1}:\n",
       " 4511964784\n",
       " 4509306640\n",
       " 4509304240\n",
       " 4509304816"
      ]
     },
     "execution_count": 16,
     "metadata": {},
     "output_type": "execute_result"
    }
   ],
   "source": [
    "Array(Int, 4)"
   ]
  },
  {
   "cell_type": "code",
   "execution_count": 38,
   "metadata": {
    "collapsed": false
   },
   "outputs": [
    {
     "data": {
      "text/plain": [
       "2-element Array{Int64,1}:\n",
       " 1\n",
       " 5"
      ]
     },
     "execution_count": 38,
     "metadata": {},
     "output_type": "execute_result"
    }
   ],
   "source": [
    "[i for i in range(1,5) if !(i in range(2,3))]"
   ]
  },
  {
   "cell_type": "code",
   "execution_count": 1,
   "metadata": {
    "collapsed": false
   },
   "outputs": [
    {
     "ename": "LoadError",
     "evalue": "DefferedAcceptance is not an installed package",
     "output_type": "error",
     "traceback": [
      "DefferedAcceptance is not an installed package",
      "",
      " in #test#61(::Bool, ::Function, ::Array{AbstractString,1}) at ./pkg/entry.jl:740",
      " in (::Base.Pkg.Entry.#kw##test)(::Array{Any,1}, ::Base.Pkg.Entry.#test, ::Array{AbstractString,1}) at ./<missing>:0",
      " in (::Base.Pkg.Dir.##2#3{Array{Any,1},Base.Pkg.Entry.#test,Tuple{Array{AbstractString,1}}})() at ./pkg/dir.jl:31",
      " in cd(::Base.Pkg.Dir.##2#3{Array{Any,1},Base.Pkg.Entry.#test,Tuple{Array{AbstractString,1}}}, ::String) at ./file.jl:59",
      " in #cd#1(::Array{Any,1}, ::Function, ::Function, ::Array{AbstractString,1}, ::Vararg{Array{AbstractString,1},N}) at ./pkg/dir.jl:31",
      " in (::Base.Pkg.Dir.#kw##cd)(::Array{Any,1}, ::Base.Pkg.Dir.#cd, ::Function, ::Array{AbstractString,1}, ::Vararg{Array{AbstractString,1},N}) at ./<missing>:0",
      " in #test#3(::Bool, ::Function, ::String, ::Vararg{String,N}) at ./pkg/pkg.jl:258",
      " in test(::String, ::Vararg{String,N}) at ./pkg/pkg.jl:258"
     ]
    }
   ],
   "source": [
    "Pkg.test(\"DefferedAcceptance\")"
   ]
  },
  {
   "cell_type": "code",
   "execution_count": 1,
   "metadata": {
    "collapsed": false
   },
   "outputs": [
    {
     "data": {
      "text/plain": [
       "converter (generic function with 1 method)"
      ]
     },
     "execution_count": 1,
     "metadata": {},
     "output_type": "execute_result"
    }
   ],
   "source": [
    "function converter(a::Vector{Vector{Int}}, b::Vector{Vector{Int}})\n",
    "    m = length(a)\n",
    "    n = length(b)\n",
    "\n",
    "    a_2d = Matrix{Int64}(n+1, m)\n",
    "    b_2d = Matrix{Int64}(m+1, n)\n",
    "\n",
    "    for (t,i) in enumerate(a)\n",
    "        if length(i) != n\n",
    "            a_2d[1:length(i), t] = i\n",
    "            a_2d[length(i)+1, t] = 0\n",
    "            a_2d[(length(i)+2):end, t] = Array([j for j in 1:n if !(j in i)])\n",
    "        else\n",
    "            a_2d[1:length(i), t] = i\n",
    "            a_2d[length(i)+1, t] = 0\n",
    "        end\n",
    "    end\n",
    "\n",
    "    for (t,i) in enumerate(b)\n",
    "        if length(i) != m\n",
    "            b_2d[1:length(i), t] = i\n",
    "            b_2d[length(i)+1, t] = 0\n",
    "            b_2d[length(i)+2:end, t] = Array([j for j in 1:m if !(j in i)])\n",
    "        else\n",
    "            b_2d[1:length(i), t] = i\n",
    "            b_2d[length(i)+1, t] = 0\n",
    "        end\n",
    "    end\n",
    "    \n",
    "    return a_2d, b_2d\n",
    "end"
   ]
  },
  {
   "cell_type": "code",
   "execution_count": 4,
   "metadata": {
    "collapsed": false
   },
   "outputs": [
    {
     "data": {
      "text/plain": [
       "4×4 Array{Int64,2}:\n",
       " 3  3  1  3\n",
       " 0  2  3  1\n",
       " 1  1  2  0\n",
       " 2  0  0  2"
      ]
     },
     "execution_count": 4,
     "metadata": {},
     "output_type": "execute_result"
    }
   ],
   "source": [
    "converter(m_prefs, f_prefs)[1]"
   ]
  },
  {
   "cell_type": "markdown",
   "metadata": {
    "collapsed": true
   },
   "source": [
    "多対一"
   ]
  },
  {
   "cell_type": "code",
   "execution_count": 2,
   "metadata": {
    "collapsed": false
   },
   "outputs": [
    {
     "name": "stderr",
     "output_type": "stream",
     "text": [
      "WARNING: Method definition converter(Array{Array{Int64, 1}, 1}, Array{Array{Int64, 1}, 1}) in module Main at In[1]:2 overwritten at In[2]:2.\n",
      "WARNING: Method definition ikegami(Array{Array{Int64, 1}, 1}, Array{Array{Int64, 1}, 1}, Array{Int64, 1}) in module Main at In[1]:34 overwritten at In[2]:34.\n",
      "WARNING: Method definition ikegami(Array{Array{Int64, 1}, 1}, Array{Array{Int64, 1}, 1}) in module Main at In[1]:40 overwritten at In[2]:40.\n",
      "WARNING: Method definition ikegamida(Any, Any) in module Main at In[1]:49 overwritten at In[2]:49.\n",
      "WARNING: Method definition ikegamida_mm(Array{Int64, 2}, Array{Int64, 2}, Array{Int64, 1}) in module Main at In[1]:138 overwritten at In[2]:138.\n",
      "WARNING: Method definition ikegamida_mm(Array{Int64, 2}, Array{Int64, 2}) in module Main at In[1]:270 overwritten at In[2]:270.\n"
     ]
    },
    {
     "data": {
      "text/plain": [
       "ikegamida_mm (generic function with 2 methods)"
      ]
     },
     "execution_count": 2,
     "metadata": {},
     "output_type": "execute_result"
    }
   ],
   "source": [
    "function converter(a::Vector{Vector{Int}}, b::Vector{Vector{Int}})\n",
    "    m = length(a)\n",
    "    n = length(b)\n",
    "\n",
    "    a_2d = Matrix{Int64}(n+1, m)\n",
    "    b_2d = Matrix{Int64}(m+1, n)\n",
    "\n",
    "    for (t,i) in enumerate(a)\n",
    "        if length(i) != n\n",
    "            a_2d[1:length(i), t] = i\n",
    "            a_2d[length(i)+1, t] = 0\n",
    "            a_2d[(length(i)+2):end, t] = Array([j for j in 1:n if !(j in i)])\n",
    "        else\n",
    "            a_2d[1:length(i), t] = i\n",
    "            a_2d[length(i)+1, t] = 0\n",
    "        end\n",
    "    end\n",
    "\n",
    "    for (t,i) in enumerate(b)\n",
    "        if length(i) != m\n",
    "            b_2d[1:length(i), t] = i\n",
    "            b_2d[length(i)+1, t] = 0\n",
    "            b_2d[length(i)+2:end, t] = Array([j for j in 1:m if !(j in i)])\n",
    "        else\n",
    "            b_2d[1:length(i), t] = i\n",
    "            b_2d[length(i)+1, t] = 0\n",
    "        end\n",
    "    end\n",
    "    return a_2d, b_2d\n",
    "end\n",
    "\n",
    "# many-to-manyの関数を入れる\n",
    "function ikegami(a::Vector{Vector{Int}}, b::Vector{Vector{Int}}, caps::Vector{Int})\n",
    "    a_2d = converter(a, b)[1]\n",
    "    b_2d = converter(a, b)[2]\n",
    "    return ikegamida_mm(a_2d, b_2d, caps)\n",
    "end\n",
    "\n",
    "function ikegami(a::Vector{Vector{Int}}, b::Vector{Vector{Int}})\n",
    "    a_2d = converter(a, b)[1]\n",
    "    b_2d = converter(a, b)[2]\n",
    "    return ikegamida(a_2d, b_2d)\n",
    "end\n",
    "\n",
    "\n",
    "# one-to-one\n",
    "function ikegamida(m_prefs, f_prefs)\n",
    "\n",
    "    m_num, f_num = size(m_prefs)[2], size(f_prefs)[2]\n",
    "    m_pool, f_pool = collect(1:m_num), collect(1:f_num)\n",
    "    match_or_unmatch = Array(Bool, m_num)\n",
    "    for i in 1:m_num\n",
    "        match_or_unmatch[i] = true\n",
    "    end\n",
    "    m_matched, f_matched = ones(Int64, m_num) + f_num, ones(Int64, f_num) + m_num\n",
    "\n",
    "    m_rank = Array(Int64, (f_num + 1, m_num))\n",
    "    f_rank = Array(Int64, (m_num + 1, f_num))\n",
    "\n",
    "    sorting = Array(Int64, (f_num + 1, 2))\n",
    "    sorting[:, 1] = collect(1:(f_num + 1))\n",
    "\n",
    "    for i in 1:m_num\n",
    "        sorting[:, 2] = m_prefs[:, i]\n",
    "        m_rank[:,i] = sortrows(sorting, by = x->(x[2]))[:,1]\n",
    "        sorting = sortrows(sorting, by = x->(x[1]))\n",
    "    end\n",
    "\n",
    "\n",
    "    sorting2 = Array(Int64, (m_num + 1, 2))\n",
    "    sorting2[:, 1] = collect(1:(m_num + 1))\n",
    "\n",
    "    for i in 1:f_num\n",
    "        sorting2[:, 2] = f_prefs[:, i]\n",
    "        f_rank[:,i] = sortrows(sorting2, by = x->(x[2]))[:,1]\n",
    "        sorting2 = sortrows(sorting2, by = x->(x[1]))\n",
    "    end\n",
    "\n",
    "    while sum(match_or_unmatch) > 0\n",
    "        for i in 1:m_num\n",
    "            if match_or_unmatch[i] == true\n",
    "\n",
    "                for j in m_prefs[:, i]\n",
    "\n",
    "                    if j == 0\n",
    "                        m_matched[i] = 0\n",
    "                        match_or_unmatch[i] = false\n",
    "                        break\n",
    "\n",
    "                    else\n",
    "                        no_marriage = f_rank[1, j]\n",
    "\n",
    "                        if f_rank[i+1, j] < no_marriage\n",
    "\n",
    "                            if f_matched[j] == m_num + 1\n",
    "                                f_matched[j] = i\n",
    "                                m_matched[i] = j\n",
    "                                match_or_unmatch[i] = false\n",
    "                                break\n",
    "\n",
    "                            else\n",
    "\n",
    "                                if f_rank[f_matched[j]+1, j] > f_rank[i+1, j]\n",
    "                                    match_or_unmatch[f_matched[j]] = true\n",
    "                                    f_matched[j] = i\n",
    "                                    m_matched[i] = j\n",
    "                                    match_or_unmatch[i] = false\n",
    "                                    break\n",
    "                                end\n",
    "                            end\n",
    "                        end\n",
    "                    end\n",
    "                end\n",
    "            end\n",
    "        end\n",
    "    end\n",
    "\n",
    "    for (i,t) in enumerate(f_matched)\n",
    "        if t == m_num + 1\n",
    "            f_matched[i] = 0\n",
    "        end\n",
    "    end\n",
    "\n",
    "     for (i,t) in enumerate(m_matched)\n",
    "        if t == f_num + 1\n",
    "            m_matched[i] = 0\n",
    "        end\n",
    "    end\n",
    "\n",
    "    return m_matched, f_matched\n",
    "end\n",
    "\n",
    "\n",
    "# many-to-many\n",
    "function ikegamida_mm(prop_prefs::Matrix{Int}, resp_prefs::Matrix{Int}, caps::Vector{Int})\n",
    "    \n",
    "    # set up\n",
    "    prop_num, resp_num = size(prop_prefs)[2], size(resp_prefs)[2]\n",
    "    match_or_unmatch = Array(Bool, prop_num)\n",
    "    for i in 1:prop_num\n",
    "        match_or_unmatch[i] = true\n",
    "    end\n",
    "    prop_matched, resp_matched = ones(Int64, prop_num) + resp_num, ones(Int64, sum(caps)) + prop_num\n",
    "    \n",
    "    prop_rank = Array(Int64, (resp_num + 1, prop_num))\n",
    "    resp_rank = Array(Int64, (prop_num + 1, resp_num))\n",
    "    \n",
    "    sorting = Array(Int64, (resp_num + 1, 2))\n",
    "    sorting[:, 1] = collect(1:(resp_num + 1))\n",
    "    for i in 1:prop_num\n",
    "        sorting[:, 2] = prop_prefs[:, i]\n",
    "        prop_rank[:,i] = sortrows(sorting, by = x->(x[2]))[:,1]\n",
    "        sorting = sortrows(sorting, by = x->(x[1]))\n",
    "    end\n",
    "    \n",
    "    sorting2 = Array(Int64, (prop_num + 1, 2))\n",
    "    sorting2[:, 1] = collect(1:(prop_num + 1))\n",
    "    for i in 1:resp_num\n",
    "        sorting2[:, 2] = resp_prefs[:, i]\n",
    "        resp_rank[:,i] = sortrows(sorting2, by = x->(x[2]))[:,1]\n",
    "        sorting2 = sortrows(sorting2, by = x->(x[1]))\n",
    "    end\n",
    "    \n",
    "    insertarray = ones(Int64, maximum(caps) + 1) * (prop_num+1)\n",
    "    \n",
    "    \n",
    "    #making indptr\n",
    "    indptr = Array(Int, resp_num+1)\n",
    "    indptr[1] = 1\n",
    "    for i in 1:resp_num\n",
    "        indptr[i+1] = indptr[i] + caps[i]\n",
    "    end\n",
    "    \n",
    "    #main loop\n",
    "    while sum(match_or_unmatch) > 0\n",
    "        for i in 1:prop_num\n",
    "            \n",
    "            if match_or_unmatch[i] == true\n",
    "            \n",
    "                for j in prop_prefs[:, i]\n",
    "            \n",
    "                    if j == 0\n",
    "                        prop_matched[i] = 0\n",
    "                        match_or_unmatch[i] = false\n",
    "                        break\n",
    "            \n",
    "                    else\n",
    "                        cutoff = resp_rank[1, j]\n",
    "                \n",
    "                        if resp_rank[i+1, j] < cutoff\n",
    "                            \n",
    "                            #capを超えてないなら無条件まっち\n",
    "                            if prop_num + 1 in resp_matched[indptr[j]:indptr[j+1]-1]\n",
    "                                \n",
    "                                for (m,q) in enumerate(resp_matched[indptr[j]:indptr[j+1]-1])\n",
    "                                    \n",
    "                                    if q == prop_num + 1\n",
    "                                        resp_matched[indptr[j]+m-1] = i\n",
    "                                        prop_matched[i] = j\n",
    "                                        match_or_unmatch[i] = false\n",
    "                                        break\n",
    "                                            \n",
    "                                    else\n",
    "                                        if resp_rank[q+1, j] > resp_rank[i+1, j]      \n",
    "                                            if m == 1\n",
    "                                                insertarray[m+1:length(resp_matched[indptr[j]:indptr[j+1]-1])] = resp_matched[indptr[j]:indptr[j+1]-1][m:end-1]\n",
    "                                                insertarray[m] = i\n",
    "                                            else\n",
    "                                                insertarray[m+1:length(resp_matched[indptr[j]:indptr[j+1]-1])] = resp_matched[indptr[j]:indptr[j+1]-1][m:end-1]\n",
    "                                                insertarray[1:m-1] = resp_matched[indptr[j]:indptr[j+1]-1][1:m-1]  \n",
    "                                                insertarray[m] = i\n",
    "                                            end\n",
    "                                            resp_matched[indptr[j]:indptr[j+1]-1] = insertarray[1:length(resp_matched[indptr[j]:indptr[j+1]-1])]\n",
    "                                            prop_matched[i] = j\n",
    "                                            match_or_unmatch[i] = false\n",
    "                                            break\n",
    "                                        end\n",
    "                                    end\n",
    "                                end\n",
    "                                break\n",
    "                                \n",
    "                                    \n",
    "                            #capを超えてたら競争\n",
    "                            else\n",
    "                                for (n,p) in enumerate(resp_matched[indptr[j]:indptr[j+1]-1])      \n",
    "                                    if resp_rank[p+1, j] > resp_rank[i+1, j]\n",
    "                                        if n == 1\n",
    "                                            insertarray[n+1:length(resp_matched[indptr[j]:indptr[j+1]-1])] = resp_matched[indptr[j]:indptr[j+1]-1][n:end-1]\n",
    "                                            insertarray[n] = i\n",
    "                                        else\n",
    "                                            insertarray[n+1:length(resp_matched[indptr[j]:indptr[j+1]-1])] = resp_matched[indptr[j]:indptr[j+1]-1][n:end-1]\n",
    "                                            insertarray[1:n-1] = resp_matched[indptr[j]:indptr[j+1]-1][1:n-1]\n",
    "                                            insertarray[n] = i\n",
    "                                        end\n",
    "                                        match_or_unmatch[resp_matched[indptr[j]:indptr[j+1]-1][end]] = true\n",
    "                                        prop_matched[resp_matched[indptr[j]:indptr[j+1]-1][end]] = resp_num + 1\n",
    "                                        resp_matched[indptr[j]:indptr[j+1]-1] = insertarray[1:length(resp_matched[indptr[j]:indptr[j+1]-1])]\n",
    "                                        prop_matched[i] = j\n",
    "                                        match_or_unmatch[i]=false\n",
    "                                        break\n",
    "                                    end\n",
    "                                end\n",
    "                                if match_or_unmatch[i] == false\n",
    "                                    break\n",
    "                                end\n",
    "                            end\n",
    "                        end\n",
    "                    end\n",
    "                end\n",
    "            end\n",
    "        end\n",
    "    end\n",
    "    \n",
    "    for (i,t) in enumerate(prop_matched)\n",
    "        if t == resp_num + 1\n",
    "            prop_matched[i] = 0\n",
    "        end\n",
    "    end\n",
    "    \n",
    "    for (i,t) in enumerate(resp_matched)\n",
    "        if t == prop_num + 1\n",
    "            resp_matched[i] = 0\n",
    "        end\n",
    "    end\n",
    "        \n",
    "    return prop_matched, resp_matched, indptr\n",
    "end\n",
    "\n",
    "function ikegamida_mm(prop_prefs::Matrix{Int}, resp_prefs::Matrix{Int})\n",
    "    caps = ones(Int, size(resp_prefs, 2))\n",
    "    prop_matches, resp_matches, indptr = \n",
    "    ikegamida_mm(prop_prefs, resp_prefs, caps)\n",
    "    return prop_matches, resp_matches\n",
    "end"
   ]
  },
  {
   "cell_type": "code",
   "execution_count": null,
   "metadata": {
    "collapsed": true
   },
   "outputs": [],
   "source": []
  }
 ],
 "metadata": {
  "kernelspec": {
   "display_name": "Julia 0.5.0",
   "language": "julia",
   "name": "julia-0.5"
  },
  "language_info": {
   "file_extension": ".jl",
   "mimetype": "application/julia",
   "name": "julia",
   "version": "0.5.0"
  }
 },
 "nbformat": 4,
 "nbformat_minor": 0
}
