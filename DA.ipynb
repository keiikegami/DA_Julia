{
 "cells": [
  {
   "cell_type": "markdown",
   "metadata": {},
   "source": [
    "# Deferred Acceptance\n",
    "## 尾山ゼミ4年　池上慧"
   ]
  },
  {
   "cell_type": "markdown",
   "metadata": {},
   "source": [
    "### one to one DA algorithm"
   ]
  },
  {
   "cell_type": "code",
   "execution_count": 1,
   "metadata": {
    "collapsed": false
   },
   "outputs": [
    {
     "name": "stdout",
     "output_type": "stream",
     "text": [
      "function ikegamida(m_prefs, f_prefs)\n",
      "    \n",
      "    m_num, f_num = size(m_prefs)[2], size(f_prefs)[2]\n",
      "    m_pool, f_pool = collect(1:m_num), collect(1:f_num)\n",
      "    m_matched, f_matched = ones(Int64, m_num) + f_num, ones(Int64, f_num) + m_num\n",
      "    \n",
      "    while length(m_pool) != 0\n",
      "        i = pop!(m_pool)\n",
      "        \n",
      "        for j in m_prefs[:, i]\n",
      "            \n",
      "            if j == 0\n",
      "                m_matched[i] = 0\n",
      "                break\n",
      "            \n",
      "            else\n",
      "                no_marriage = indexin([0], f_prefs[:,j])[1]\n",
      "                \n",
      "                if indexin([i], f_prefs[:, j])[1] < no_marriage\n",
      "                    \n",
      "                    if f_matched[j] == m_num + 1\n",
      "                        f_matched[j] = i\n",
      "                        m_matched[i] = j\n",
      "                        break\n",
      "                        \n",
      "                    else\n",
      "                    \n",
      "                        if indexin([f_matched[j]], f_prefs[:, j])[1] > indexin([i], f_prefs[:, j])[1]\n",
      "                            push!(m_pool, f_matched[j])\n",
      "                            f_matched[j] = i\n",
      "                            m_matched[i] = j\n",
      "                            break\n",
      "                        end\n",
      "\n",
      "                    end\n",
      "                \n",
      "                end\n",
      "            \n",
      "            end\n",
      "        \n",
      "        end\n",
      "        \n",
      "    end\n",
      "    \n",
      "    for (i,t) in enumerate(f_matched)\n",
      "        if t == m_num + 1\n",
      "            f_matched[i] = 0\n",
      "        end\n",
      "    end\n",
      "    \n",
      "     for (i,t) in enumerate(m_matched)\n",
      "        if t == f_num + 1\n",
      "            m_matched[i] = 0\n",
      "        end\n",
      "    end\n",
      "    \n",
      "    return m_matched, f_matched\n",
      "end"
     ]
    }
   ],
   "source": [
    ";cat ikegamida.jl"
   ]
  },
  {
   "cell_type": "code",
   "execution_count": 2,
   "metadata": {
    "collapsed": false
   },
   "outputs": [],
   "source": [
    "include(\"ikegamida.jl\");"
   ]
  },
  {
   "cell_type": "code",
   "execution_count": 3,
   "metadata": {
    "collapsed": false
   },
   "outputs": [
    {
     "name": "stdout",
     "output_type": "stream",
     "text": [
      "Test Summary:        | Pass  Total\n",
      "Testing ikegamida.jl |    4      4\n"
     ]
    }
   ],
   "source": [
    "include(\"test_deferred_acceptance.jl\");"
   ]
  },
  {
   "cell_type": "markdown",
   "metadata": {
    "collapsed": true
   },
   "source": [
    "#### example"
   ]
  },
  {
   "cell_type": "code",
   "execution_count": 4,
   "metadata": {
    "collapsed": false
   },
   "outputs": [],
   "source": [
    "include(\"matching_tools.jl\");"
   ]
  },
  {
   "cell_type": "code",
   "execution_count": 5,
   "metadata": {
    "collapsed": false
   },
   "outputs": [
    {
     "name": "stdout",
     "output_type": "stream",
     "text": [
      "[2 2 1 2\n",
      " 0 1 2 3\n",
      " 3 3 3 0\n",
      " 1 0 0 1]\n",
      "[3 1 1\n",
      " 0 3 0\n",
      " 2 0 4\n",
      " 1 2 2\n",
      " 4 4 3]\n"
     ]
    }
   ],
   "source": [
    "srand(1234)\n",
    "m_prefs, f_prefs = random_prefs(4,3)\n",
    "println(m_prefs)\n",
    "println(f_prefs)"
   ]
  },
  {
   "cell_type": "code",
   "execution_count": 6,
   "metadata": {
    "collapsed": false
   },
   "outputs": [
    {
     "data": {
      "text/plain": [
       "([2,0,1,0],[3,1,0])"
      ]
     },
     "execution_count": 6,
     "metadata": {},
     "output_type": "execute_result"
    }
   ],
   "source": [
    "ikegamida(m_prefs, f_prefs)"
   ]
  }
 ],
 "metadata": {
  "kernelspec": {
   "display_name": "Julia 0.4.5",
   "language": "julia",
   "name": "julia-0.4"
  },
  "language_info": {
   "file_extension": ".jl",
   "mimetype": "application/julia",
   "name": "julia",
   "version": "0.4.5"
  }
 },
 "nbformat": 4,
 "nbformat_minor": 0
}
