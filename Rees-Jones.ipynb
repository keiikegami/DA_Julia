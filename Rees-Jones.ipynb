{
 "cells": [
  {
   "cell_type": "markdown",
   "metadata": {},
   "source": [
    "# Rees - Jones (2017) American Economic Review\n",
    "## Mistaken Play in the Deferred Acceptance Algorithm: Implications for Positive Assortative Matching\n",
    "\n",
    "DAは選好順序が真の能力なり性質なりをすべて反映していれば、strategy-proof、すなわちマッチングに参加するプレイヤーは自身の選好を偽らずにそのまま報告することが弱支配戦略となることを保証するアルゴリズムである。\n",
    "\n",
    "しかし、現実のマッチング問題にDAを用いると、必ずしもすべてのプレイヤーが真の選好順序を報告するわけではないことが多数の事例において報告されている。\n",
    "\n",
    "例えば、学校と生徒のマッチングを考える。\n",
    "\n",
    "この時学校側が生徒に対して持つ選好順序はなんらかの統一テストなどの結果であることが予想できる。しかし、一回きりの統一テストの結果が生徒の真の能力を完全に反映させるわけではないことは容易に想像できる。体調不良や問題への適性などにより真の能力順序とはいくらか異なる順序をテストの結果として得られていると想定するのがむしろ自然なことである。\n",
    "\n",
    "本論文はこのような状況下で、生徒側が真の選好順序を報告しないことにより、「より良い学校がより良い生徒とマッチするべき（PAM）」という観点で見たときに社会厚生が改善する可能性のあることを指摘している。\n",
    "\n",
    "具体的には、能力値の低い学生群が自身の選好を偽って報告した場合に、全員が真の選好順序を報告する倍位よりも社会厚生が高くなることをシミュレーションで示している。以下では論文中で行われたシミュレーションを、シミュレーション回数を少なくして再現する。\n",
    "\n",
    "## 具体的な設定\n",
    "\n",
    "10校の学校に対して100人の生徒を10人ずつマッチさせることを考える。\n",
    "\n",
    "それぞれの真のクオリティは、\n",
    "\n",
    "$i = 1 \\dots 10$として、学校$i$のクオリティが$q_i　= \\frac{11 - i}{10}$で、$j = 1 \\dots 100$として、生徒$j$のクオリティが$q_j = \\frac{101 - j}{100}$\n",
    "\n",
    "である。\n",
    "\n",
    "### 学校\n",
    "学校側が生徒に対して受け取るシグナルは上の真のクオリティを用いて、$s_j= q_j + \\epsilon$であるとする。ただし、$\\epsilon$は標準正規分布からのランダムサンプルとする。\n",
    "\n",
    "学校はこのシグナルにしたがって生徒に対する選好順序を構成し、デザイナーに報告する。\n",
    "\n",
    "### 生徒\n",
    "生徒側の選好順序におけるmisrepresentationは以下のようにモデル化する。\n",
    "\n",
    "misrepresentationする生徒の割合を$\\left\\{0,0.1, 0.2, 0.3, 0.4, 0.5 \\right\\}$の6パターン用意する。\n",
    "\n",
    "misrepresentationするかどうかが生徒の性質と送還するかどうかについて、\n",
    "- 上位の生徒が選好の構成に失敗する\n",
    "- 下位の生徒が選好の構成に失敗する\n",
    "- 生徒はランダムに選好の構成に失敗する\n",
    "の3パターンを用意する。\n",
    "\n",
    "ここで、「ある生徒がmisrepresentationを起こす」とは、当該生徒の選好がランダムに順序交換させられることを指す。\n",
    "\n",
    "### シミュレーション\n",
    "生徒側の選好構成の失敗の仕方により、18通りのシミュレーションを行う。\n",
    "\n",
    "それぞれの場合において1000回ランダムに選好を真のものからずらしてDAによるマッチングを行う。\n",
    "\n",
    "それぞれの場合に対して、各学校がマッチした生徒のクオリティの平均値をプロットすることで、misrepresentationがPAMに対してどのような結果をもたらすのかを考察する。"
   ]
  },
  {
   "cell_type": "code",
   "execution_count": 46,
   "metadata": {
    "collapsed": false
   },
   "outputs": [
    {
     "data": {
      "text/plain": [
       "10-element Array{Array{Int64,1},1}:\n",
       " [70, 77, 34, 97, 91, 30, 82, 78, 85, 80  …  12, 13, 21, 50, 96, 37, 27, 74, 28, 49]\n",
       " [70, 77, 34, 97, 91, 30, 82, 78, 85, 80  …  12, 13, 21, 50, 96, 37, 27, 74, 28, 49]\n",
       " [70, 77, 34, 97, 91, 30, 82, 78, 85, 80  …  12, 13, 21, 50, 96, 37, 27, 74, 28, 49]\n",
       " [70, 77, 34, 97, 91, 30, 82, 78, 85, 80  …  12, 13, 21, 50, 96, 37, 27, 74, 28, 49]\n",
       " [70, 77, 34, 97, 91, 30, 82, 78, 85, 80  …  12, 13, 21, 50, 96, 37, 27, 74, 28, 49]\n",
       " [70, 77, 34, 97, 91, 30, 82, 78, 85, 80  …  12, 13, 21, 50, 96, 37, 27, 74, 28, 49]\n",
       " [70, 77, 34, 97, 91, 30, 82, 78, 85, 80  …  12, 13, 21, 50, 96, 37, 27, 74, 28, 49]\n",
       " [70, 77, 34, 97, 91, 30, 82, 78, 85, 80  …  12, 13, 21, 50, 96, 37, 27, 74, 28, 49]\n",
       " [70, 77, 34, 97, 91, 30, 82, 78, 85, 80  …  12, 13, 21, 50, 96, 37, 27, 74, 28, 49]\n",
       " [70, 77, 34, 97, 91, 30, 82, 78, 85, 80  …  12, 13, 21, 50, 96, 37, 27, 74, 28, 49]"
      ]
     },
     "execution_count": 46,
     "metadata": {},
     "output_type": "execute_result"
    }
   ],
   "source": [
    "num_stu = 100\n",
    "num_sch = 10\n",
    "\n",
    "# caps\n",
    "cap = 10\n",
    "caps = round.(Int64, ones(num_sch)*cap)\n",
    "\n",
    "# school preferences\n",
    "srand(123)\n",
    "pre_sch = ones(num_stu, 2)\n",
    "pre_sch[:, 1] = collect(range(1,num_stu))\n",
    "pre_sch[:, 2] = collect(1/num_stu:1/num_stu:1) + randn(num_stu)\n",
    "pre_sch = sortrows(pre_sch, by=x->x[2], rev = true)\n",
    "school_prefs = [round.(Int64, Array(pre_sch[:, 1])) for i in range(1, num_sch)]\n",
    "\n",
    "# student preferences\n"
   ]
  },
  {
   "cell_type": "code",
   "execution_count": 47,
   "metadata": {
    "collapsed": false
   },
   "outputs": [
    {
     "data": {
      "text/plain": [
       "10-element Array{Int64,1}:\n",
       " 10\n",
       " 10\n",
       " 10\n",
       " 10\n",
       " 10\n",
       " 10\n",
       " 10\n",
       " 10\n",
       " 10\n",
       " 10"
      ]
     },
     "execution_count": 47,
     "metadata": {},
     "output_type": "execute_result"
    }
   ],
   "source": [
    "caps"
   ]
  },
  {
   "cell_type": "code",
   "execution_count": 20,
   "metadata": {
    "collapsed": false
   },
   "outputs": [
    {
     "data": {
      "text/plain": [
       "100-element Array{Int64,1}:\n",
       "   1\n",
       "   2\n",
       "   3\n",
       "   4\n",
       "   5\n",
       "   6\n",
       "   7\n",
       "   8\n",
       "   9\n",
       "  10\n",
       "  11\n",
       "  12\n",
       "  13\n",
       "   ⋮\n",
       "  89\n",
       "  90\n",
       "  91\n",
       "  92\n",
       "  93\n",
       "  94\n",
       "  95\n",
       "  96\n",
       "  97\n",
       "  98\n",
       "  99\n",
       " 100"
      ]
     },
     "execution_count": 20,
     "metadata": {},
     "output_type": "execute_result"
    }
   ],
   "source": [
    "collect(range(1,num_stu))"
   ]
  },
  {
   "cell_type": "code",
   "execution_count": null,
   "metadata": {
    "collapsed": true
   },
   "outputs": [],
   "source": []
  }
 ],
 "metadata": {
  "kernelspec": {
   "display_name": "Julia 0.6.0",
   "language": "julia",
   "name": "julia-0.6"
  },
  "language_info": {
   "file_extension": ".jl",
   "mimetype": "application/julia",
   "name": "julia",
   "version": "0.6.0"
  }
 },
 "nbformat": 4,
 "nbformat_minor": 0
}
