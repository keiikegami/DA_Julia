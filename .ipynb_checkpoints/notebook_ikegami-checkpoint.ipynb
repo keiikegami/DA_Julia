{
 "cells": [
  {
   "cell_type": "markdown",
   "metadata": {},
   "source": [
    "## Ikegami"
   ]
  },
  {
   "cell_type": "code",
   "execution_count": 1,
   "metadata": {
    "collapsed": true
   },
   "outputs": [],
   "source": [
    "using DefferedAcceptance"
   ]
  },
  {
   "cell_type": "code",
   "execution_count": 2,
   "metadata": {
    "collapsed": false
   },
   "outputs": [
    {
     "data": {
      "text/plain": [
       "3-element Array{Array{Int64,1},1}:\n",
       " [2,3]    \n",
       " [2,3,4,1]\n",
       " [4,1,2]  "
      ]
     },
     "execution_count": 2,
     "metadata": {},
     "output_type": "execute_result"
    }
   ],
   "source": [
    "m_prefs = [[3], [3, 2, 1], [1, 3, 2], [3, 1]]\n",
    "f_prefs = [[2, 3], [2, 3, 4, 1], [4, 1, 2]]"
   ]
  },
  {
   "cell_type": "code",
   "execution_count": 3,
   "metadata": {
    "collapsed": false
   },
   "outputs": [
    {
     "data": {
      "text/plain": [
       "([0,2,1,3],[3,2,4])"
      ]
     },
     "execution_count": 3,
     "metadata": {},
     "output_type": "execute_result"
    }
   ],
   "source": [
    "DefferedAcceptance.ikegami(m_prefs, f_prefs)"
   ]
  },
  {
   "cell_type": "code",
   "execution_count": 4,
   "metadata": {
    "collapsed": false
   },
   "outputs": [
    {
     "data": {
      "text/plain": [
       "([3,2,4],[0,2,1,3])"
      ]
     },
     "execution_count": 4,
     "metadata": {},
     "output_type": "execute_result"
    }
   ],
   "source": [
    "DefferedAcceptance.ikegami(f_prefs, m_prefs)"
   ]
  },
  {
   "cell_type": "markdown",
   "metadata": {
    "collapsed": true
   },
   "source": [
    "test"
   ]
  },
  {
   "cell_type": "code",
   "execution_count": 5,
   "metadata": {
    "collapsed": false
   },
   "outputs": [
    {
     "name": "stderr",
     "output_type": "stream",
     "text": [
      "\u001b[1m\u001b[34mINFO: Testing DefferedAcceptance\n",
      "\u001b[0m"
     ]
    },
    {
     "name": "stdout",
     "output_type": "stream",
     "text": [
      "\u001b[1m\u001b[37mone-to-one: Vector of Vectors: \u001b[0m\u001b[1m\u001b[31mTest Failed\n",
      "\u001b[0m  Expression: m_matches == d[\"m_matches_m_opt\"]\n",
      "   Evaluated: [2,0,1,3] == [1,2,3,0]\n",
      " in record(::Base.Test.DefaultTestSet, ::Base.Test.Fail) at ./test.jl:428\n",
      " in do_test(::Base.Test.Returned, ::Expr) at ./test.jl:281\n",
      " in macro expansion; at /Users/susu/.julia/v0.5/DefferedAcceptance/test/runtests.jl:103 [inlined]\n",
      " in macro expansion; at ./test.jl:672 [inlined]\n",
      " in macro expansion; at /Users/susu/.julia/v0.5/DefferedAcceptance/test/runtests.jl:96 [inlined]\n",
      " in macro expansion; at ./test.jl:672 [inlined]\n",
      " in anonymous at ./<missing>:?\n",
      " in include_from_node1(::String) at ./loading.jl:488\n",
      " in include_from_node1(::String) at /Applications/Julia-0.5.app/Contents/Resources/julia/lib/julia/sys.dylib:?\n",
      " in process_options(::Base.JLOptions) at ./client.jl:262\n",
      " in _start() at ./client.jl:318\n",
      " in _start() at /Applications/Julia-0.5.app/Contents/Resources/julia/lib/julia/sys.dylib:?\n",
      "\u001b[1m\u001b[37mone-to-one: Vector of Vectors: \u001b[0m\u001b[1m\u001b[31mTest Failed\n",
      "\u001b[0m  Expression: f_matches == d[\"f_matches_m_opt\"]\n",
      "   Evaluated: [3,1,4] == [1,2,3]\n",
      " in record(::Base.Test.DefaultTestSet, ::Base.Test.Fail) at ./test.jl:428\n",
      " in do_test(::Base.Test.Returned, ::Expr) at ./test.jl:281\n",
      " in macro expansion; at /Users/susu/.julia/v0.5/DefferedAcceptance/test/runtests.jl:104 [inlined]\n",
      " in macro expansion; at ./test.jl:672 [inlined]\n",
      " in macro expansion; at /Users/susu/.julia/v0.5/DefferedAcceptance/test/runtests.jl:96 [inlined]\n",
      " in macro expansion; at ./test.jl:672 [inlined]\n",
      " in anonymous at ./<missing>:?\n",
      " in include_from_node1(::String) at ./loading.jl:488\n",
      " in include_from_node1(::String) at /Applications/Julia-0.5.app/Contents/Resources/julia/lib/julia/sys.dylib:?\n",
      " in process_options(::Base.JLOptions) at ./client.jl:262\n",
      " in _start() at ./client.jl:318\n",
      " in _start() at /Applications/Julia-0.5.app/Contents/Resources/julia/lib/julia/sys.dylib:?\n",
      "\u001b[1m\u001b[37mone-to-one: Vector of Vectors: \u001b[0m\u001b[1m\u001b[31mTest Failed\n",
      "\u001b[0m  Expression: m_matches == d[\"m_matches_f_opt\"]\n",
      "   Evaluated: [4,1,2,0,3] == [4,1,2,3,0]\n",
      " in record(::Base.Test.DefaultTestSet, ::Base.Test.Fail) at ./test.jl:428\n",
      " in do_test(::Base.Test.Returned, ::Expr) at ./test.jl:281\n",
      " in macro expansion; at /Users/susu/.julia/v0.5/DefferedAcceptance/test/runtests.jl:108 [inlined]\n",
      " in macro expansion; at ./test.jl:672 [inlined]\n",
      " in macro expansion; at /Users/susu/.julia/v0.5/DefferedAcceptance/test/runtests.jl:96 [inlined]\n",
      " in macro expansion; at ./test.jl:672 [inlined]\n",
      " in anonymous at ./<missing>:?\n",
      " in include_from_node1(::String) at ./loading.jl:488\n",
      " in include_from_node1(::String) at /Applications/Julia-0.5.app/Contents/Resources/julia/lib/julia/sys.dylib:?\n",
      " in process_options(::Base.JLOptions) at ./client.jl:262\n",
      " in _start() at ./client.jl:318\n",
      " in _start() at /Applications/Julia-0.5.app/Contents/Resources/julia/lib/julia/sys.dylib:?\n",
      "\u001b[1m\u001b[37mone-to-one: Vector of Vectors: \u001b[0m\u001b[1m\u001b[31mTest Failed\n",
      "\u001b[0m  Expression: f_matches == d[\"f_matches_f_opt\"]\n",
      "   Evaluated: [2,3,5,1] == [2,3,4,1]\n",
      " in record(::Base.Test.DefaultTestSet, ::Base.Test.Fail) at ./test.jl:428\n",
      " in do_test(::Base.Test.Returned, ::Expr) at ./test.jl:281\n",
      " in macro expansion; at /Users/susu/.julia/v0.5/DefferedAcceptance/test/runtests.jl:109 [inlined]\n",
      " in macro expansion; at ./test.jl:672 [inlined]\n",
      " in macro expansion; at /Users/susu/.julia/v0.5/DefferedAcceptance/test/runtests.jl:96 [inlined]\n",
      " in macro expansion; at ./test.jl:672 [inlined]\n",
      " in anonymous at ./<missing>:?\n",
      " in include_from_node1(::String) at ./loading.jl:488\n",
      " in include_from_node1(::String) at /Applications/Julia-0.5.app/Contents/Resources/julia/lib/julia/sys.dylib:?\n",
      " in process_options(::Base.JLOptions) at ./client.jl:262\n",
      " in _start() at ./client.jl:318\n",
      " in _start() at /Applications/Julia-0.5.app/Contents/Resources/julia/lib/julia/sys.dylib:?\n",
      "\u001b[1m\u001b[37mTest Summary:                   | \u001b[0m\u001b[1m\u001b[32mPass  \u001b[0m\u001b[1m\u001b[31mFail  \u001b[0m\u001b[1m\u001b[34mTotal\u001b[0m\n",
      "  Testing deferred acceptance   | \u001b[1m\u001b[32m   8  \u001b[0m\u001b[1m\u001b[31m   4  \u001b[0m\u001b[1m\u001b[34m   12\u001b[0m\n",
      "  one-to-one: Vector of Vectors | \u001b[1m\u001b[32m   8  \u001b[0m\u001b[1m\u001b[31m   4  \u001b[0m\u001b[1m\u001b[34m   12\u001b[0m\n"
     ]
    },
    {
     "name": "stderr",
     "output_type": "stream",
     "text": [
      "\u001b[1m\u001b[31mERROR: LoadError: Some tests did not pass: 8 passed, 4 failed, 0 errored, 0 broken.\n",
      " in finish(::Base.Test.DefaultTestSet) at ./test.jl:495\n",
      " in macro expansion; at ./test.jl:679 [inlined]\n",
      " in anonymous at ./<missing>:?\n",
      " in include_from_node1(::String) at ./loading.jl:488\n",
      " in include_from_node1(::String) at /Applications/Julia-0.5.app/Contents/Resources/julia/lib/julia/sys.dylib:?\n",
      " in process_options(::Base.JLOptions) at ./client.jl:262\n",
      " in _start() at ./client.jl:318\n",
      " in _start() at /Applications/Julia-0.5.app/Contents/Resources/julia/lib/julia/sys.dylib:?\n",
      "while loading /Users/susu/.julia/v0.5/DefferedAcceptance/test/runtests.jl, in expression starting on line 10\n",
      "\u001b[0m\u001b[1m\u001b[31m=========================[ ERROR: DefferedAcceptance ]==========================\u001b[0m\n",
      "\n",
      "\u001b[1m\u001b[31mfailed process: Process(`/Applications/Julia-0.5.app/Contents/Resources/julia/bin/julia -Ccore2 -J/Applications/Julia-0.5.app/Contents/Resources/julia/lib/julia/sys.dylib --compile=yes --depwarn=yes --check-bounds=yes --code-coverage=none --color=yes --compilecache=yes /Users/susu/.julia/v0.5/DefferedAcceptance/test/runtests.jl`, ProcessExited(1)) [1]\u001b[0m\n",
      "\n",
      "\u001b[1m\u001b[31m================================================================================\u001b[0m\n"
     ]
    },
    {
     "ename": "LoadError",
     "evalue": "DefferedAcceptance had test errors",
     "output_type": "error",
     "traceback": [
      "DefferedAcceptance had test errors",
      "",
      " in #test#61(::Bool, ::Function, ::Array{AbstractString,1}) at ./pkg/entry.jl:740",
      " in (::Base.Pkg.Entry.#kw##test)(::Array{Any,1}, ::Base.Pkg.Entry.#test, ::Array{AbstractString,1}) at ./<missing>:0",
      " in (::Base.Pkg.Dir.##2#3{Array{Any,1},Base.Pkg.Entry.#test,Tuple{Array{AbstractString,1}}})() at ./pkg/dir.jl:31",
      " in cd(::Base.Pkg.Dir.##2#3{Array{Any,1},Base.Pkg.Entry.#test,Tuple{Array{AbstractString,1}}}, ::String) at ./file.jl:59",
      " in #cd#1(::Array{Any,1}, ::Function, ::Function, ::Array{AbstractString,1}, ::Vararg{Array{AbstractString,1},N}) at ./pkg/dir.jl:31",
      " in (::Base.Pkg.Dir.#kw##cd)(::Array{Any,1}, ::Base.Pkg.Dir.#cd, ::Function, ::Array{AbstractString,1}, ::Vararg{Array{AbstractString,1},N}) at ./<missing>:0",
      " in #test#3(::Bool, ::Function, ::String, ::Vararg{String,N}) at ./pkg/pkg.jl:258",
      " in test(::String, ::Vararg{String,N}) at ./pkg/pkg.jl:258"
     ]
    }
   ],
   "source": [
    "Pkg.test(\"DefferedAcceptance\")"
   ]
  },
  {
   "cell_type": "code",
   "execution_count": null,
   "metadata": {
    "collapsed": true
   },
   "outputs": [],
   "source": []
  }
 ],
 "metadata": {
  "kernelspec": {
   "display_name": "Julia 0.5.0",
   "language": "julia",
   "name": "julia-0.5"
  },
  "language_info": {
   "file_extension": ".jl",
   "mimetype": "application/julia",
   "name": "julia",
   "version": "0.5.0"
  }
 },
 "nbformat": 4,
 "nbformat_minor": 0
}
