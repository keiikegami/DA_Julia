{
 "cells": [
  {
   "cell_type": "markdown",
   "metadata": {},
   "source": [
    "## Ikegami"
   ]
  },
  {
   "cell_type": "code",
   "execution_count": 1,
   "metadata": {
    "collapsed": true
   },
   "outputs": [],
   "source": [
    "using DefferedAcceptance"
   ]
  },
  {
   "cell_type": "code",
   "execution_count": 2,
   "metadata": {
    "collapsed": false
   },
   "outputs": [
    {
     "data": {
      "text/plain": [
       "3-element Array{Array{Int64,1},1}:\n",
       " [2,3]    \n",
       " [2,3,4,1]\n",
       " [4,1,2]  "
      ]
     },
     "execution_count": 2,
     "metadata": {},
     "output_type": "execute_result"
    }
   ],
   "source": [
    "m_prefs = [[3], [3, 2, 1], [1, 3, 2], [3, 1]]\n",
    "f_prefs = [[2, 3], [2, 3, 4, 1], [4, 1, 2]]"
   ]
  },
  {
   "cell_type": "code",
   "execution_count": 3,
   "metadata": {
    "collapsed": false
   },
   "outputs": [
    {
     "data": {
      "text/plain": [
       "([0,2,1,3],[3,2,4])"
      ]
     },
     "execution_count": 3,
     "metadata": {},
     "output_type": "execute_result"
    }
   ],
   "source": [
    "DefferedAcceptance.ikegami(m_prefs, f_prefs)"
   ]
  },
  {
   "cell_type": "code",
   "execution_count": 4,
   "metadata": {
    "collapsed": false
   },
   "outputs": [
    {
     "data": {
      "text/plain": [
       "([3,2,4],[0,2,1,3])"
      ]
     },
     "execution_count": 4,
     "metadata": {},
     "output_type": "execute_result"
    }
   ],
   "source": [
    "DefferedAcceptance.ikegami(f_prefs, m_prefs)"
   ]
  },
  {
   "cell_type": "markdown",
   "metadata": {
    "collapsed": true
   },
   "source": [
    "test"
   ]
  },
  {
   "cell_type": "code",
   "execution_count": 5,
   "metadata": {
    "collapsed": false
   },
   "outputs": [
    {
     "name": "stderr",
     "output_type": "stream",
     "text": [
      "\u001b[1m\u001b[34mINFO: Testing DefferedAcceptance\n",
      "\u001b[0m"
     ]
    },
    {
     "name": "stdout",
     "output_type": "stream",
     "text": [
      "\u001b[1m\u001b[37mone-to-one: Vector of Vectors: \u001b[0m\u001b[1m\u001b[31mTest Failed\n",
      "\u001b[0m  Expression: m_matches == d[\"m_matches_m_opt\"]\n",
      "   Evaluated: [2,0,1,3] == [1,2,3,0]\n",
      " in record(::Base.Test.DefaultTestSet, ::Base.Test.Fail) at ./test.jl:428\n",
      " in do_test(::Base.Test.Returned, ::Expr) at ./test.jl:281\n",
      " in macro expansion; at /Users/susu/.julia/v0.5/DefferedAcceptance/test/runtests.jl:103 [inlined]\n",
      " in macro expansion; at ./test.jl:672 [inlined]\n",
      " in macro expansion; at /Users/susu/.julia/v0.5/DefferedAcceptance/test/runtests.jl:96 [inlined]\n",
      " in macro expansion; at ./test.jl:672 [inlined]\n",
      " in anonymous at ./<missing>:?\n",
      " in include_from_node1(::String) at ./loading.jl:488\n",
      " in include_from_node1(::String) at /Applications/Julia-0.5.app/Contents/Resources/julia/lib/julia/sys.dylib:?\n",
      " in process_options(::Base.JLOptions) at ./client.jl:262\n",
      " in _start() at ./client.jl:318\n",
      " in _start() at /Applications/Julia-0.5.app/Contents/Resources/julia/lib/julia/sys.dylib:?\n",
      "\u001b[1m\u001b[37mone-to-one: Vector of Vectors: \u001b[0m\u001b[1m\u001b[31mTest Failed\n",
      "\u001b[0m  Expression: f_matches == d[\"f_matches_m_opt\"]\n",
      "   Evaluated: [3,1,4] == [1,2,3]\n",
      " in record(::Base.Test.DefaultTestSet, ::Base.Test.Fail) at ./test.jl:428\n",
      " in do_test(::Base.Test.Returned, ::Expr) at ./test.jl:281\n",
      " in macro expansion; at /Users/susu/.julia/v0.5/DefferedAcceptance/test/runtests.jl:104 [inlined]\n",
      " in macro expansion; at ./test.jl:672 [inlined]\n",
      " in macro expansion; at /Users/susu/.julia/v0.5/DefferedAcceptance/test/runtests.jl:96 [inlined]\n",
      " in macro expansion; at ./test.jl:672 [inlined]\n",
      " in anonymous at ./<missing>:?\n",
      " in include_from_node1(::String) at ./loading.jl:488\n",
      " in include_from_node1(::String) at /Applications/Julia-0.5.app/Contents/Resources/julia/lib/julia/sys.dylib:?\n",
      " in process_options(::Base.JLOptions) at ./client.jl:262\n",
      " in _start() at ./client.jl:318\n",
      " in _start() at /Applications/Julia-0.5.app/Contents/Resources/julia/lib/julia/sys.dylib:?\n",
      "\u001b[1m\u001b[37mone-to-one: Vector of Vectors: \u001b[0m\u001b[1m\u001b[31mTest Failed\n",
      "\u001b[0m  Expression: m_matches == d[\"m_matches_f_opt\"]\n",
      "   Evaluated: [4,1,2,0,3] == [4,1,2,3,0]\n",
      " in record(::Base.Test.DefaultTestSet, ::Base.Test.Fail) at ./test.jl:428\n",
      " in do_test(::Base.Test.Returned, ::Expr) at ./test.jl:281\n",
      " in macro expansion; at /Users/susu/.julia/v0.5/DefferedAcceptance/test/runtests.jl:108 [inlined]\n",
      " in macro expansion; at ./test.jl:672 [inlined]\n",
      " in macro expansion; at /Users/susu/.julia/v0.5/DefferedAcceptance/test/runtests.jl:96 [inlined]\n",
      " in macro expansion; at ./test.jl:672 [inlined]\n",
      " in anonymous at ./<missing>:?\n",
      " in include_from_node1(::String) at ./loading.jl:488\n",
      " in include_from_node1(::String) at /Applications/Julia-0.5.app/Contents/Resources/julia/lib/julia/sys.dylib:?\n",
      " in process_options(::Base.JLOptions) at ./client.jl:262\n",
      " in _start() at ./client.jl:318\n",
      " in _start() at /Applications/Julia-0.5.app/Contents/Resources/julia/lib/julia/sys.dylib:?\n",
      "\u001b[1m\u001b[37mone-to-one: Vector of Vectors: \u001b[0m\u001b[1m\u001b[31mTest Failed\n",
      "\u001b[0m  Expression: f_matches == d[\"f_matches_f_opt\"]\n",
      "   Evaluated: [2,3,5,1] == [2,3,4,1]\n",
      " in record(::Base.Test.DefaultTestSet, ::Base.Test.Fail) at ./test.jl:428\n",
      " in do_test(::Base.Test.Returned, ::Expr) at ./test.jl:281\n",
      " in macro expansion; at /Users/susu/.julia/v0.5/DefferedAcceptance/test/runtests.jl:109 [inlined]\n",
      " in macro expansion; at ./test.jl:672 [inlined]\n",
      " in macro expansion; at /Users/susu/.julia/v0.5/DefferedAcceptance/test/runtests.jl:96 [inlined]\n",
      " in macro expansion; at ./test.jl:672 [inlined]\n",
      " in anonymous at ./<missing>:?\n",
      " in include_from_node1(::String) at ./loading.jl:488\n",
      " in include_from_node1(::String) at /Applications/Julia-0.5.app/Contents/Resources/julia/lib/julia/sys.dylib:?\n",
      " in process_options(::Base.JLOptions) at ./client.jl:262\n",
      " in _start() at ./client.jl:318\n",
      " in _start() at /Applications/Julia-0.5.app/Contents/Resources/julia/lib/julia/sys.dylib:?\n",
      "\u001b[1m\u001b[37mTest Summary:                   | \u001b[0m\u001b[1m\u001b[32mPass  \u001b[0m\u001b[1m\u001b[31mFail  \u001b[0m\u001b[1m\u001b[34mTotal\u001b[0m\n",
      "  Testing deferred acceptance   | \u001b[1m\u001b[32m   8  \u001b[0m\u001b[1m\u001b[31m   4  \u001b[0m\u001b[1m\u001b[34m   12\u001b[0m\n",
      "  one-to-one: Vector of Vectors | \u001b[1m\u001b[32m   8  \u001b[0m\u001b[1m\u001b[31m   4  \u001b[0m\u001b[1m\u001b[34m   12\u001b[0m\n"
     ]
    },
    {
     "name": "stderr",
     "output_type": "stream",
     "text": [
      "\u001b[1m\u001b[31mERROR: LoadError: Some tests did not pass: 8 passed, 4 failed, 0 errored, 0 broken.\n",
      " in finish(::Base.Test.DefaultTestSet) at ./test.jl:495\n",
      " in macro expansion; at ./test.jl:679 [inlined]\n",
      " in anonymous at ./<missing>:?\n",
      " in include_from_node1(::String) at ./loading.jl:488\n",
      " in include_from_node1(::String) at /Applications/Julia-0.5.app/Contents/Resources/julia/lib/julia/sys.dylib:?\n",
      " in process_options(::Base.JLOptions) at ./client.jl:262\n",
      " in _start() at ./client.jl:318\n",
      " in _start() at /Applications/Julia-0.5.app/Contents/Resources/julia/lib/julia/sys.dylib:?\n",
      "while loading /Users/susu/.julia/v0.5/DefferedAcceptance/test/runtests.jl, in expression starting on line 10\n",
      "\u001b[0m\u001b[1m\u001b[31m=========================[ ERROR: DefferedAcceptance ]==========================\u001b[0m\n",
      "\n",
      "\u001b[1m\u001b[31mfailed process: Process(`/Applications/Julia-0.5.app/Contents/Resources/julia/bin/julia -Ccore2 -J/Applications/Julia-0.5.app/Contents/Resources/julia/lib/julia/sys.dylib --compile=yes --depwarn=yes --check-bounds=yes --code-coverage=none --color=yes --compilecache=yes /Users/susu/.julia/v0.5/DefferedAcceptance/test/runtests.jl`, ProcessExited(1)) [1]\u001b[0m\n",
      "\n",
      "\u001b[1m\u001b[31m================================================================================\u001b[0m\n"
     ]
    },
    {
     "ename": "LoadError",
     "evalue": "DefferedAcceptance had test errors",
     "output_type": "error",
     "traceback": [
      "DefferedAcceptance had test errors",
      "",
      " in #test#61(::Bool, ::Function, ::Array{AbstractString,1}) at ./pkg/entry.jl:740",
      " in (::Base.Pkg.Entry.#kw##test)(::Array{Any,1}, ::Base.Pkg.Entry.#test, ::Array{AbstractString,1}) at ./<missing>:0",
      " in (::Base.Pkg.Dir.##2#3{Array{Any,1},Base.Pkg.Entry.#test,Tuple{Array{AbstractString,1}}})() at ./pkg/dir.jl:31",
      " in cd(::Base.Pkg.Dir.##2#3{Array{Any,1},Base.Pkg.Entry.#test,Tuple{Array{AbstractString,1}}}, ::String) at ./file.jl:59",
      " in #cd#1(::Array{Any,1}, ::Function, ::Function, ::Array{AbstractString,1}, ::Vararg{Array{AbstractString,1},N}) at ./pkg/dir.jl:31",
      " in (::Base.Pkg.Dir.#kw##cd)(::Array{Any,1}, ::Base.Pkg.Dir.#cd, ::Function, ::Array{AbstractString,1}, ::Vararg{Array{AbstractString,1},N}) at ./<missing>:0",
      " in #test#3(::Bool, ::Function, ::String, ::Vararg{String,N}) at ./pkg/pkg.jl:258",
      " in test(::String, ::Vararg{String,N}) at ./pkg/pkg.jl:258"
     ]
    }
   ],
   "source": [
    "Pkg.test(\"DefferedAcceptance\")"
   ]
  },
  {
   "cell_type": "markdown",
   "metadata": {},
   "source": [
    "なんか違う"
   ]
  },
  {
   "cell_type": "code",
   "execution_count": 57,
   "metadata": {
    "collapsed": false
   },
   "outputs": [
    {
     "name": "stderr",
     "output_type": "stream",
     "text": [
      "WARNING: Method definition ikegami(Array{Array{Int64, 1}, 1}, Array{Array{Int64, 1}, 1}) in module Main at In[45]:2 overwritten at In[57]:2.\n",
      "WARNING: Method definition ikegamida(Any, Any) in module Main at In[45]:40 overwritten at In[57]:40.\n"
     ]
    },
    {
     "data": {
      "text/plain": [
       "ikegamida (generic function with 1 method)"
      ]
     },
     "execution_count": 57,
     "metadata": {},
     "output_type": "execute_result"
    }
   ],
   "source": [
    "function ikegami(a::Vector{Vector{Int}}, b::Vector{Vector{Int}})\n",
    "    m = length(a)\n",
    "    n = length(b)\n",
    "\n",
    "    a_2d = Matrix{Int64}(n+1, m)\n",
    "    b_2d = Matrix{Int64}(m+1, n)\n",
    "\n",
    "    for (t,i) in enumerate(a)\n",
    "        if length(i) != n\n",
    "            a_2d[1:length(i), t] = i\n",
    "            a_2d[length(i)+1, t] = 0\n",
    "            a_2d[(length(i)+2):end, t] = Array([j for j in 1:n if !(j in i)])\n",
    "        else\n",
    "            a_2d[1:length(i), t] = i\n",
    "            a_2d[length(i)+1, t] = 0\n",
    "        end\n",
    "    end\n",
    "\n",
    "    for (t,i) in enumerate(b)\n",
    "        if length(i) != m\n",
    "            b_2d[1:length(i), t] = i\n",
    "            b_2d[length(i)+1, t] = 0\n",
    "            b_2d[length(i)+2:end, t] = Array([j for j in 1:m if !(j in i)])\n",
    "        else\n",
    "            b_2d[1:length(i), t] = i\n",
    "            b_2d[length(i)+1, t] = 0\n",
    "        end\n",
    "    end\n",
    "\n",
    "    return ikegamida(a_2d, b_2d)\n",
    "end\n",
    "\n",
    "\n",
    "\n",
    "function ikegamida(m_prefs, f_prefs)\n",
    "\n",
    "    m_num, f_num = size(m_prefs)[2], size(f_prefs)[2]\n",
    "    m_pool, f_pool = collect(1:m_num), collect(1:f_num)\n",
    "    match_or_unmatch = Array(Bool, m_num)\n",
    "    for i in 1:m_num\n",
    "        match_or_unmatch[i] = true\n",
    "    end\n",
    "    m_matched, f_matched = ones(Int64, m_num) + f_num, ones(Int64, f_num) + m_num\n",
    "\n",
    "    m_rank = Array(Int64, (f_num + 1, m_num))\n",
    "    f_rank = Array(Int64, (m_num + 1, f_num))\n",
    "\n",
    "    sorting = Array(Int64, (f_num + 1, 2))\n",
    "    sorting[:, 1] = collect(1:(f_num + 1))\n",
    "\n",
    "    for i in 1:m_num\n",
    "        sorting[:, 2] = m_prefs[:, i]\n",
    "        m_rank[:,i] = sortrows(sorting, by = x->(x[2]))[:,1]\n",
    "        sorting = sortrows(sorting, by = x->(x[1]))\n",
    "    end\n",
    "\n",
    "\n",
    "    sorting2 = Array(Int64, (m_num + 1, 2))\n",
    "    sorting2[:, 1] = collect(1:(m_num + 1))\n",
    "\n",
    "    for i in 1:f_num\n",
    "        sorting2[:, 2] = f_prefs[:, i]\n",
    "        f_rank[:,i] = sortrows(sorting2, by = x->(x[2]))[:,1]\n",
    "        sorting2 = sortrows(sorting2, by = x->(x[1]))\n",
    "    end\n",
    "\n",
    "    while sum(match_or_unmatch) > 0\n",
    "        for i in 1:m_num\n",
    "            if match_or_unmatch[i] == true\n",
    "\n",
    "                for j in m_prefs[:, i]\n",
    "\n",
    "                    if j == 0\n",
    "                        m_matched[i] = 0\n",
    "                        match_or_unmatch[i] = false\n",
    "                        break\n",
    "\n",
    "                    else\n",
    "                        no_marriage = f_rank[1, j]\n",
    "                        print(no_marriage)\n",
    "                        print(f_rank[i+1, j]) #ここが2となっている。本当は5。→最初の整形の段階でちゃんと残ったやつを入れてあげないとダメか。\n",
    "\n",
    "                        if f_rank[i+1, j] < no_marriage\n",
    "\n",
    "                            if f_matched[j] == m_num + 1\n",
    "                                f_matched[j] = i\n",
    "                                m_matched[i] = j\n",
    "                                match_or_unmatch[i] = false\n",
    "                                break\n",
    "\n",
    "                            else\n",
    "\n",
    "                                if f_rank[f_matched[j]+1, j] > f_rank[i+1, j]\n",
    "                                    match_or_unmatch[f_matched[j]] = true\n",
    "                                    f_matched[j] = i\n",
    "                                    m_matched[i] = j\n",
    "                                    match_or_unmatch[i] = false\n",
    "                                    break\n",
    "                                end\n",
    "                            end\n",
    "                        end\n",
    "                    end\n",
    "                end\n",
    "            end\n",
    "        end\n",
    "    end\n",
    "\n",
    "    for (i,t) in enumerate(f_matched)\n",
    "        if t == m_num + 1\n",
    "            f_matched[i] = 0\n",
    "        end\n",
    "    end\n",
    "\n",
    "     for (i,t) in enumerate(m_matched)\n",
    "        if t == f_num + 1\n",
    "            m_matched[i] = 0\n",
    "        end\n",
    "    end\n",
    "\n",
    "    return m_matched, f_matched\n",
    "end"
   ]
  },
  {
   "cell_type": "markdown",
   "metadata": {},
   "source": [
    "ex1"
   ]
  },
  {
   "cell_type": "code",
   "execution_count": 4,
   "metadata": {
    "collapsed": false
   },
   "outputs": [
    {
     "data": {
      "text/plain": [
       "5×3 Array{Int64,2}:\n",
       " 3  1  3\n",
       " 1  2  0\n",
       " 2  3  2\n",
       " 4  4  1\n",
       " 0  0  4"
      ]
     },
     "execution_count": 4,
     "metadata": {},
     "output_type": "execute_result"
    }
   ],
   "source": [
    "m_prefs = [1 3 2 3;\n",
    "               2 1 3 1;\n",
    "               3 2 1 2;\n",
    "               0 0 0 0]\n",
    "f_prefs = [3 1 3;\n",
    "               1 2 0;\n",
    "               2 3 2;\n",
    "               4 4 1;\n",
    "               0 0 4]"
   ]
  },
  {
   "cell_type": "code",
   "execution_count": 5,
   "metadata": {
    "collapsed": false
   },
   "outputs": [
    {
     "data": {
      "text/plain": [
       "([1,2,3,0],[1,2,3])"
      ]
     },
     "execution_count": 5,
     "metadata": {},
     "output_type": "execute_result"
    }
   ],
   "source": [
    "ikegamida(m_prefs, f_prefs)"
   ]
  },
  {
   "cell_type": "code",
   "execution_count": 6,
   "metadata": {
    "collapsed": false
   },
   "outputs": [
    {
     "data": {
      "text/plain": [
       "([1,2,3],[1,2,3,0])"
      ]
     },
     "execution_count": 6,
     "metadata": {},
     "output_type": "execute_result"
    }
   ],
   "source": [
    "ikegamida(f_prefs, m_prefs)"
   ]
  },
  {
   "cell_type": "markdown",
   "metadata": {},
   "source": [
    "ex2"
   ]
  },
  {
   "cell_type": "code",
   "execution_count": 58,
   "metadata": {
    "collapsed": false
   },
   "outputs": [
    {
     "data": {
      "text/plain": [
       "4-element Array{Array{Int64,1},1}:\n",
       " [2,3,1,4,5]\n",
       " [3,1,2,4,5]\n",
       " [5,4,1,2,3]\n",
       " [1,4,5,2,3]"
      ]
     },
     "execution_count": 58,
     "metadata": {},
     "output_type": "execute_result"
    }
   ],
   "source": [
    "m_prefs = [\n",
    "    [1, 2, 3, 4],\n",
    "    [4, 2, 3, 1],\n",
    "    [4, 3, 1, 2],\n",
    "    [1, 4, 3, 2],\n",
    "    [1, 2, 4]\n",
    "    ]\n",
    "\n",
    "f_prefs = [\n",
    "    [2, 3, 1, 4, 5],\n",
    "    [3, 1, 2, 4, 5],\n",
    "    [5, 4, 1, 2, 3],\n",
    "    [1, 4, 5, 2, 3]\n",
    "    ]"
   ]
  },
  {
   "cell_type": "code",
   "execution_count": 59,
   "metadata": {
    "collapsed": false
   },
   "outputs": [
    {
     "name": "stdout",
     "output_type": "stream",
     "text": [
      "Int6463646565646265656463656563"
     ]
    },
    {
     "data": {
      "text/plain": [
       "([1,2,3,4,0],[1,2,3,4])"
      ]
     },
     "execution_count": 59,
     "metadata": {},
     "output_type": "execute_result"
    }
   ],
   "source": [
    "ikegami(m_prefs, f_prefs)"
   ]
  },
  {
   "cell_type": "code",
   "execution_count": 60,
   "metadata": {
    "collapsed": false
   },
   "outputs": [
    {
     "name": "stdout",
     "output_type": "stream",
     "text": [
      "1[3,5]5454455354"
     ]
    },
    {
     "data": {
      "text/plain": [
       "([2,3,4,1],[4,1,2,3,0])"
      ]
     },
     "execution_count": 60,
     "metadata": {},
     "output_type": "execute_result"
    }
   ],
   "source": [
    "# ここが違うね\n",
    "ikegami(f_prefs, m_prefs)"
   ]
  },
  {
   "cell_type": "code",
   "execution_count": 56,
   "metadata": {
    "collapsed": false
   },
   "outputs": [
    {
     "name": "stdout",
     "output_type": "stream",
     "text": [
      "51[3,5]"
     ]
    }
   ],
   "source": [
    "b = m_prefs\n",
    "a = f_prefs\n",
    "m = length(a)\n",
    "n = length(b)\n",
    "a_2d = Matrix{Int64}(n+1, m)\n",
    "b_2d = Matrix{Int64}(m+1, n)\n",
    "\n",
    "print(n)\n",
    "for (t,i) in enumerate(b)\n",
    "if length(i) != m\n",
    "    b_2d[1:length(i), t] = i\n",
    "    b_2d[length(i)+1, t] = 0\n",
    "    print(length(b_2d[length(i)+2:end, t]))\n",
    "    print(Array([j for j in 1:n if !(j in i)]))\n",
    "    b_2d[length(i)+2:end, t] = Array([j for j in 1:m if !(j in i)])\n",
    "else\n",
    "    b_2d[1:length(i), t] = i\n",
    "    b_2d[length(i)+1, t] = 0\n",
    "end\n",
    "end"
   ]
  },
  {
   "cell_type": "code",
   "execution_count": 53,
   "metadata": {
    "collapsed": false
   },
   "outputs": [
    {
     "data": {
      "text/plain": [
       "6×4 Array{Int64,2}:\n",
       " 2  3  5  1\n",
       " 3  1  4  4\n",
       " 1  2  1  5\n",
       " 4  4  2  2\n",
       " 5  5  3  3\n",
       " 0  0  0  0"
      ]
     },
     "execution_count": 53,
     "metadata": {},
     "output_type": "execute_result"
    }
   ],
   "source": [
    "b_2d"
   ]
  },
  {
   "cell_type": "code",
   "execution_count": null,
   "metadata": {
    "collapsed": true
   },
   "outputs": [],
   "source": []
  }
 ],
 "metadata": {
  "kernelspec": {
   "display_name": "Julia 0.5.0",
   "language": "julia",
   "name": "julia-0.5"
  },
  "language_info": {
   "file_extension": ".jl",
   "mimetype": "application/julia",
   "name": "julia",
   "version": "0.5.0"
  }
 },
 "nbformat": 4,
 "nbformat_minor": 0
}
