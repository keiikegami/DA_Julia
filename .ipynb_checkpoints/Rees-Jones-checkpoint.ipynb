{
 "cells": [
  {
   "cell_type": "markdown",
   "metadata": {},
   "source": [
    "# Rees - Jones (2017) American Economic Review\n",
    "## Mistaken Play in the Deferred Acceptance Algorithm: Implications for Positive Assortative Matching\n",
    "\n",
    "DAは選好順序が真の能力なり性質なりをすべて反映していれば、strategy-proof、すなわちマッチングに参加するプレイヤーは自身の選好を偽らずにそのまま報告することが弱支配戦略となることを保証するアルゴリズムである。\n",
    "\n",
    "しかし、現実のマッチング問題にDAを用いると、必ずしもすべてのプレイヤーが真の選好順序を報告するわけではないことが多数の事例において報告されている。\n",
    "\n",
    "例えば、学校と生徒のマッチングを考える。\n",
    "\n",
    "この時学校側が生徒に対して持つ選好順序はなんらかの統一テストなどの結果であることが予想できる。しかし、一回きりの統一テストの結果が生徒の真の能力を完全に反映させるわけではないことは容易に想像できる。体調不良や問題への適性などにより真の能力順序とはいくらか異なる順序をテストの結果として得られていると想定するのがむしろ自然なことである。\n",
    "\n",
    "本論文はこのような状況下で、生徒側が真の選好順序を報告しないことにより、「より良い学校がより良い生徒とマッチするべき（PAM）」という観点で見たときに社会厚生が改善する可能性のあることを指摘している。\n",
    "\n",
    "具体的には、能力値の低い学生群が自身の選好を偽って報告した場合に、全員が真の選好順序を報告する倍位よりも社会厚生が高くなることをシミュレーションで示している。以下では論文中で行われたシミュレーションを、シミュレーション回数を少なくして再現する。\n",
    "\n",
    "## 具体的な設定\n",
    "\n",
    "10校の学校に対して100人の生徒を10人ずつマッチさせることを考える。\n",
    "\n",
    "それぞれの真のクオリティは、\n",
    "\n",
    "$i = 1 \\dots 10$として、学校$i$のクオリティが$q_i　= \\frac{11 - i}{10}$で、$j = 1 \\dots 100$として、生徒$j$のクオリティが$q_j = \\frac{101 - j}{100}$\n",
    "\n",
    "である。\n",
    "\n",
    "### 学校\n",
    "学校側が生徒に対して受け取るシグナルは上の真のクオリティを用いて、$s_j= q_j + \\epsilon$であるとする。ただし、$\\epsilon$は標準正規分布からのランダムサンプルとする。\n",
    "\n",
    "学校はこのシグナルにしたがって生徒に対する選好順序を構成し、デザイナーに報告する。\n",
    "\n",
    "### 生徒\n",
    "生徒側の選好順序におけるmisrepresentationは以下のようにモデル化する。\n",
    "\n",
    "misrepresentationする生徒の割合を$\\left\\{0,0.1, 0.2, 0.3, 0.4, 0.5 \\right\\}$の6パターン用意する。\n",
    "\n",
    "misrepresentationするかどうかが生徒の性質と送還するかどうかについて、\n",
    "- 上位の生徒が選好の構成に失敗する\n",
    "- 下位の生徒が選好の構成に失敗する\n",
    "- 生徒はランダムに選好の構成に失敗する\n",
    "の3パターンを用意する。\n",
    "\n",
    "ここで、「ある生徒がmisrepresentationを起こす」とは、当該生徒の選好がランダムに順序交換させられることを指す。\n",
    "\n",
    "### シミュレーション\n",
    "生徒側の選好構成の失敗の仕方により、18通りのシミュレーションを行う。\n",
    "\n",
    "それぞれの場合において1000回ランダムに選好を真のものからずらしてDAによるマッチングを行う。\n",
    "\n",
    "それぞれの場合に対して、各学校がマッチした生徒のクオリティの平均値をプロットすることで、misrepresentationがPAMに対してどのような結果をもたらすのかを考察する。"
   ]
  },
  {
   "cell_type": "code",
   "execution_count": 82,
   "metadata": {
    "collapsed": false
   },
   "outputs": [
    {
     "data": {
      "text/plain": [
       "permute_prefs (generic function with 1 method)"
      ]
     },
     "execution_count": 82,
     "metadata": {},
     "output_type": "execute_result"
    }
   ],
   "source": [
    "using StatsBase\n",
    "\n",
    "# school preferences\n",
    "function school_pref(seed, num_stu, num_sch)\n",
    "    srand(seed)\n",
    "    pre_sch = ones(num_stu, 2)\n",
    "    pre_sch[:, 1] = collect(range(1,num_stu))\n",
    "    pre_sch[:, 2] = collect(1:-1/num_stu:1/num_stu) + randn(num_stu)\n",
    "    pre_sch = sortrows(pre_sch, by=x->x[2], rev = true)\n",
    "    return [round.(Int64, Array(pre_sch[:, 1])) for i in range(1, num_sch)]\n",
    "end\n",
    "\n",
    "# student preferences\n",
    "# student preferences permutation\n",
    "# types = 1 means higher ability students misrepresent\n",
    "# types = 2 means lower ability students misrepresent\n",
    "# types = 3 means atudents misrepresent at random\n",
    "function permute_prefs(num_stu, num_sch, percent, types)\n",
    "    true_prefs = [collect(1:1:num_sch) for i in range(1, num_stu)]\n",
    "    \n",
    "    if types == 1\n",
    "        if percent == 0\n",
    "            return true_prefs\n",
    "        else\n",
    "            for (i, n) in enumerate(true_prefs)\n",
    "                if i <= percecnt\n",
    "                    true_prefs[i] = n[randperm(length(n))]\n",
    "                end\n",
    "            end\n",
    "        end\n",
    "                    \n",
    "    elseif types == 2\n",
    "        if percent == 0\n",
    "            return true_prefs\n",
    "        else\n",
    "            for i in num_stu - percent + 1:num_stu\n",
    "                n = true_prefs[i]\n",
    "                true_prefs[i] = n[randperm(length(n))]\n",
    "            end\n",
    "        end\n",
    "        \n",
    "    else\n",
    "        list = sample(1:num_stu, percent, replace = false)\n",
    "        for i in list\n",
    "            n = true_prefs[i]\n",
    "            true_prefs[i] = n[randperm(length(n))]\n",
    "        end\n",
    "    end\n",
    "    \n",
    "    return true_prefs\n",
    "    \n",
    "end"
   ]
  },
  {
   "cell_type": "markdown",
   "metadata": {},
   "source": [
    "## misrepresentationの分析"
   ]
  },
  {
   "cell_type": "code",
   "execution_count": 76,
   "metadata": {
    "collapsed": false
   },
   "outputs": [],
   "source": [
    "using DefferedAcceptance"
   ]
  },
  {
   "cell_type": "code",
   "execution_count": 80,
   "metadata": {
    "collapsed": false
   },
   "outputs": [],
   "source": [
    "percents = collect(0:10:50)\n",
    "cor = [1, 2, 3]\n",
    "num_simu = 100\n",
    "num_stu = 100\n",
    "num_sch = 10\n",
    "cap = 10\n",
    "caps = round.(Int64, ones(num_sch)*cap);"
   ]
  },
  {
   "cell_type": "markdown",
   "metadata": {},
   "source": [
    "### 能力の高い学生がmisrepresentする場合"
   ]
  },
  {
   "cell_type": "code",
   "execution_count": null,
   "metadata": {
    "collapsed": true
   },
   "outputs": [],
   "source": [
    "for types in cor\n",
    "    for percent in percents\n",
    "        for i in num_simu\n",
    "            school_prefs = school_pref(i, num_stu, num_sch)\n",
    "            student_prefs = permute_prefs(num_stu, num_sch, percent, types)\n",
    "\n",
    "DefferedAcceptance.ikegami()"
   ]
  }
 ],
 "metadata": {
  "kernelspec": {
   "display_name": "Julia 0.6.0",
   "language": "julia",
   "name": "julia-0.6"
  },
  "language_info": {
   "file_extension": ".jl",
   "mimetype": "application/julia",
   "name": "julia",
   "version": "0.6.0"
  }
 },
 "nbformat": 4,
 "nbformat_minor": 0
}
