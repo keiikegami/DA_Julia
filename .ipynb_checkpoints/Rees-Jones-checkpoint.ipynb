{
 "cells": [
  {
   "cell_type": "markdown",
   "metadata": {},
   "source": [
    "# Rees - Jones (2017) American Economic Review\n",
    "## Mistaken Play in the Deferred Acceptance Algorithm: Implications for Positive Assortative Matching\n",
    "\n",
    "DAは選好順序が真の能力なり性質なりをすべて反映していれば、strategy-proof、すなわちマッチングに参加するプレイヤーは自身の選好を偽らずにそのまま報告することが弱支配戦略となることを保証するアルゴリズムである。\n",
    "\n",
    "しかし、現実のマッチング問題にDAを用いると、必ずしもすべてのプレイヤーが真の選好順序を報告するわけではないことが多数の事例において報告されている。\n",
    "\n",
    "例えば、学校と生徒のマッチングを考える。\n",
    "\n",
    "この時学校側が生徒に対して持つ選好順序はなんらかの統一テストなどの結果であることが予想できる。しかし、一回きりの統一テストの結果が生徒の真の能力を完全に反映させるわけではないことは容易に想像できる。体調不良や問題への適性などにより真の能力順序とはいくらか異なる順序をテストの結果として得られていると想定するのがむしろ自然なことである。\n",
    "\n",
    "本論文はこのような状況下で、生徒側が真の選好順序を報告しないことにより、「より良い学校がより良い生徒とマッチするべき（PAM）」という観点で見たときに社会厚生が改善する可能性のあることを指摘している。\n",
    "\n",
    "具体的には、能力値の低い学生群が自身の選好を偽って報告した場合に、全員が真の選好順序を報告する倍位よりも社会厚生が高くなることをシミュレーションで示している。以下では論文中で行われたシミュレーションを、シミュレーション回数を少なくして再現する。\n",
    "\n",
    "## 具体的な設定\n",
    "\n",
    "10校の学校に対して100人の生徒を10人ずつマッチさせることを考える。\n",
    "\n",
    "それぞれの真のクオリティは、\n",
    "\n",
    "$i = 1 \\dots 10$として、学校$i$のクオリティが$q_i　= \\frac{11 - i}{10}$で、$j = 1 \\dots 100$として、生徒$j$のクオリティが$q_j = \\frac{101 - j}{100}$\n",
    "\n",
    "である。\n",
    "\n",
    "### 学校\n",
    "学校側が生徒に対して受け取るシグナルは上の真のクオリティを用いて、$s_j= q_j + \\epsilon$であるとする。ただし、$\\epsilon$は標準正規分布からのランダムサンプルとする。\n",
    "\n",
    "学校はこのシグナルにしたがって生徒に対する選好順序を構成し、デザイナーに報告する。\n",
    "\n",
    "### 生徒\n",
    "生徒側の選好順序におけるmisrepresentationは以下のようにモデル化する。\n",
    "\n",
    "misrepresentationする生徒の割合を$\\left\\{0,0.1, 0.2, 0.3, 0.4, 0.5 \\right\\}$の6パターン用意する。\n",
    "\n",
    "misrepresentationするかどうかが生徒の性質と送還するかどうかについて、\n",
    "- 上位の生徒が選好の構成に失敗する\n",
    "- 下位の生徒が選好の構成に失敗する\n",
    "- 生徒はランダムに選好の構成に失敗する\n",
    "の3パターンを用意する。\n",
    "\n",
    "ここで、「ある生徒がmisrepresentationを起こす」とは、当該生徒の選好がランダムに順序交換させられることを指す。\n",
    "\n",
    "### シミュレーション\n",
    "生徒側の選好構成の失敗の仕方により、18通りのシミュレーションを行う。\n",
    "\n",
    "それぞれの場合において1000回ランダムに選好を真のものからずらしてDAによるマッチングを行う。\n",
    "\n",
    "それぞれの場合に対して、各学校がマッチした生徒のクオリティの平均値をプロットすることで、misrepresentationがPAMに対してどのような結果をもたらすのかを考察する。"
   ]
  },
  {
   "cell_type": "code",
   "execution_count": 103,
   "metadata": {
    "collapsed": false
   },
   "outputs": [
    {
     "data": {
      "text/plain": [
       "permute_prefs (generic function with 2 methods)"
      ]
     },
     "execution_count": 103,
     "metadata": {},
     "output_type": "execute_result"
    }
   ],
   "source": [
    "using StatsBase\n",
    "\n",
    "# school preferences\n",
    "function school_pref(seed, num_stu, num_sch)\n",
    "    srand(seed)\n",
    "    pre_sch = ones(num_stu, 2)\n",
    "    pre_sch[:, 1] = collect(range(1,num_stu))\n",
    "    pre_sch[:, 2] = collect(1:-1/num_stu:1/num_stu) + randn(num_stu)\n",
    "    pre_sch = sortrows(pre_sch, by=x->x[2], rev = true)\n",
    "    return [round.(Int64, Array(pre_sch[:, 1])) for i in range(1, num_sch)], pre_sch\n",
    "end\n",
    "\n",
    "# student preferences\n",
    "# student preferences permutation\n",
    "# types = 1 means higher ability students misrepresent\n",
    "# types = 2 means lower ability students misrepresent\n",
    "# types = 3 means atudents misrepresent at random\n",
    "function permute_prefs(seed, num_stu, num_sch, percent, types)\n",
    "    srand(seed)\n",
    "    \n",
    "    true_prefs = [collect(1:1:num_sch) for i in range(1, num_stu)]\n",
    "    if types == 1\n",
    "        if percent == 0\n",
    "            return true_prefs\n",
    "        else\n",
    "            for (i, n) in enumerate(true_prefs)\n",
    "                if i <= percent\n",
    "                    true_prefs[i] = n[randperm(length(n))]\n",
    "                end\n",
    "            end\n",
    "        end\n",
    "                    \n",
    "    elseif types == 2\n",
    "        if percent == 0\n",
    "            return true_prefs\n",
    "        else\n",
    "            for i in num_stu - percent + 1:num_stu\n",
    "                n = true_prefs[i]\n",
    "                true_prefs[i] = n[randperm(length(n))]\n",
    "            end\n",
    "        end\n",
    "        \n",
    "    else\n",
    "        list = sample(1:num_stu, percent, replace = false)\n",
    "        for i in list\n",
    "            n = true_prefs[i]\n",
    "            true_prefs[i] = n[randperm(length(n))]\n",
    "        end\n",
    "    end\n",
    "    \n",
    "    return true_prefs\n",
    "    \n",
    "end"
   ]
  },
  {
   "cell_type": "markdown",
   "metadata": {},
   "source": [
    "## misrepresentationの分析"
   ]
  },
  {
   "cell_type": "code",
   "execution_count": 76,
   "metadata": {
    "collapsed": false
   },
   "outputs": [],
   "source": [
    "using DefferedAcceptance"
   ]
  },
  {
   "cell_type": "code",
   "execution_count": 98,
   "metadata": {
    "collapsed": false
   },
   "outputs": [],
   "source": [
    "percents = collect(0:10:50)\n",
    "cor = [1, 2, 3]\n",
    "num_simu = 100\n",
    "num_stu = 100\n",
    "num_sch = 10\n",
    "cap = 10\n",
    "caps = round.(Int64, ones(num_sch)*cap);"
   ]
  },
  {
   "cell_type": "markdown",
   "metadata": {},
   "source": [
    "### 能力の高い学生がmisrepresentする場合"
   ]
  },
  {
   "cell_type": "code",
   "execution_count": 104,
   "metadata": {
    "collapsed": false
   },
   "outputs": [
    {
     "name": "stderr",
     "output_type": "stream",
     "text": [
      "\u001b[1m\u001b[33mWARNING: \u001b[39m\u001b[22m\u001b[33mArray{T}(::Type{T}, m::Int) is deprecated, use Array{T}(m) instead.\u001b[39m\n",
      "Stacktrace:\n",
      " [1] \u001b[1mdepwarn\u001b[22m\u001b[22m\u001b[1m(\u001b[22m\u001b[22m::String, ::Symbol\u001b[1m)\u001b[22m\u001b[22m at \u001b[1m./deprecated.jl:70\u001b[22m\u001b[22m\n",
      " [2] \u001b[1mArray\u001b[22m\u001b[22m\u001b[1m(\u001b[22m\u001b[22m::Type{Bool}, ::Int64\u001b[1m)\u001b[22m\u001b[22m at \u001b[1m./deprecated.jl:57\u001b[22m\u001b[22m\n",
      " [3] \u001b[1mikegamida_mm\u001b[22m\u001b[22m\u001b[1m(\u001b[22m\u001b[22m::Array{Int64,2}, ::Array{Int64,2}, ::Array{Int64,1}\u001b[1m)\u001b[22m\u001b[22m at \u001b[1m/Users/susu/.julia/v0.6/DefferedAcceptance/src/DefferedAcceptance.jl:152\u001b[22m\u001b[22m\n",
      " [4] \u001b[1mikegami\u001b[22m\u001b[22m\u001b[1m(\u001b[22m\u001b[22m::Array{Array{Int64,1},1}, ::Array{Array{Int64,1},1}, ::Array{Int64,1}\u001b[1m)\u001b[22m\u001b[22m at \u001b[1m/Users/susu/.julia/v0.6/DefferedAcceptance/src/DefferedAcceptance.jl:39\u001b[22m\u001b[22m\n",
      " [5] \u001b[1mmacro expansion\u001b[22m\u001b[22m at \u001b[1m./In[104]:8\u001b[22m\u001b[22m [inlined]\n",
      " [6] \u001b[1manonymous\u001b[22m\u001b[22m at \u001b[1m./<missing>:?\u001b[22m\u001b[22m\n",
      " [7] \u001b[1minclude_string\u001b[22m\u001b[22m\u001b[1m(\u001b[22m\u001b[22m::String, ::String\u001b[1m)\u001b[22m\u001b[22m at \u001b[1m./loading.jl:515\u001b[22m\u001b[22m\n",
      " [8] \u001b[1mexecute_request\u001b[22m\u001b[22m\u001b[1m(\u001b[22m\u001b[22m::ZMQ.Socket, ::IJulia.Msg\u001b[1m)\u001b[22m\u001b[22m at \u001b[1m/Users/susu/.julia/v0.6/IJulia/src/execute_request.jl:160\u001b[22m\u001b[22m\n",
      " [9] \u001b[1meventloop\u001b[22m\u001b[22m\u001b[1m(\u001b[22m\u001b[22m::ZMQ.Socket\u001b[1m)\u001b[22m\u001b[22m at \u001b[1m/Users/susu/.julia/v0.6/IJulia/src/eventloop.jl:8\u001b[22m\u001b[22m\n",
      " [10] \u001b[1m(::IJulia.##11#14)\u001b[22m\u001b[22m\u001b[1m(\u001b[22m\u001b[22m\u001b[1m)\u001b[22m\u001b[22m at \u001b[1m./task.jl:335\u001b[22m\u001b[22m\n",
      "while loading In[104], in expression starting on line 3\n",
      "\u001b[1m\u001b[33mWARNING: \u001b[39m\u001b[22m\u001b[33mArray{T, N}(::Type{T}, d::NTuple{N, Int}) is deprecated, use Array{T}(d) instead.\u001b[39m\n",
      "Stacktrace:\n",
      " [1] \u001b[1mdepwarn\u001b[22m\u001b[22m\u001b[1m(\u001b[22m\u001b[22m::String, ::Symbol\u001b[1m)\u001b[22m\u001b[22m at \u001b[1m./deprecated.jl:70\u001b[22m\u001b[22m\n",
      " [2] \u001b[1mArray\u001b[22m\u001b[22m\u001b[1m(\u001b[22m\u001b[22m::Type{Int64}, ::Tuple{Int64,Int64}\u001b[1m)\u001b[22m\u001b[22m at \u001b[1m./deprecated.jl:57\u001b[22m\u001b[22m\n",
      " [3] \u001b[1mikegamida_mm\u001b[22m\u001b[22m\u001b[1m(\u001b[22m\u001b[22m::Array{Int64,2}, ::Array{Int64,2}, ::Array{Int64,1}\u001b[1m)\u001b[22m\u001b[22m at \u001b[1m/Users/susu/.julia/v0.6/DefferedAcceptance/src/DefferedAcceptance.jl:156\u001b[22m\u001b[22m\n",
      " [4] \u001b[1mikegami\u001b[22m\u001b[22m\u001b[1m(\u001b[22m\u001b[22m::Array{Array{Int64,1},1}, ::Array{Array{Int64,1},1}, ::Array{Int64,1}\u001b[1m)\u001b[22m\u001b[22m at \u001b[1m/Users/susu/.julia/v0.6/DefferedAcceptance/src/DefferedAcceptance.jl:39\u001b[22m\u001b[22m\n",
      " [5] \u001b[1mmacro expansion\u001b[22m\u001b[22m at \u001b[1m./In[104]:8\u001b[22m\u001b[22m [inlined]\n",
      " [6] \u001b[1manonymous\u001b[22m\u001b[22m at \u001b[1m./<missing>:?\u001b[22m\u001b[22m\n",
      " [7] \u001b[1minclude_string\u001b[22m\u001b[22m\u001b[1m(\u001b[22m\u001b[22m::String, ::String\u001b[1m)\u001b[22m\u001b[22m at \u001b[1m./loading.jl:515\u001b[22m\u001b[22m\n",
      " [8] \u001b[1mexecute_request\u001b[22m\u001b[22m\u001b[1m(\u001b[22m\u001b[22m::ZMQ.Socket, ::IJulia.Msg\u001b[1m)\u001b[22m\u001b[22m at \u001b[1m/Users/susu/.julia/v0.6/IJulia/src/execute_request.jl:160\u001b[22m\u001b[22m\n",
      " [9] \u001b[1meventloop\u001b[22m\u001b[22m\u001b[1m(\u001b[22m\u001b[22m::ZMQ.Socket\u001b[1m)\u001b[22m\u001b[22m at \u001b[1m/Users/susu/.julia/v0.6/IJulia/src/eventloop.jl:8\u001b[22m\u001b[22m\n",
      " [10] \u001b[1m(::IJulia.##11#14)\u001b[22m\u001b[22m\u001b[1m(\u001b[22m\u001b[22m\u001b[1m)\u001b[22m\u001b[22m at \u001b[1m./task.jl:335\u001b[22m\u001b[22m\n",
      "while loading In[104], in expression starting on line 3\n",
      "\u001b[1m\u001b[33mWARNING: \u001b[39m\u001b[22m\u001b[33mArray{T, N}(::Type{T}, d::NTuple{N, Int}) is deprecated, use Array{T}(d) instead.\u001b[39m\n",
      "Stacktrace:\n",
      " [1] \u001b[1mdepwarn\u001b[22m\u001b[22m\u001b[1m(\u001b[22m\u001b[22m::String, ::Symbol\u001b[1m)\u001b[22m\u001b[22m at \u001b[1m./deprecated.jl:70\u001b[22m\u001b[22m\n",
      " [2] \u001b[1mArray\u001b[22m\u001b[22m\u001b[1m(\u001b[22m\u001b[22m::Type{Int64}, ::Tuple{Int64,Int64}\u001b[1m)\u001b[22m\u001b[22m at \u001b[1m./deprecated.jl:57\u001b[22m\u001b[22m\n",
      " [3] \u001b[1mikegamida_mm\u001b[22m\u001b[22m\u001b[1m(\u001b[22m\u001b[22m::Array{Int64,2}, ::Array{Int64,2}, ::Array{Int64,1}\u001b[1m)\u001b[22m\u001b[22m at \u001b[1m/Users/susu/.julia/v0.6/DefferedAcceptance/src/DefferedAcceptance.jl:157\u001b[22m\u001b[22m\n",
      " [4] \u001b[1mikegami\u001b[22m\u001b[22m\u001b[1m(\u001b[22m\u001b[22m::Array{Array{Int64,1},1}, ::Array{Array{Int64,1},1}, ::Array{Int64,1}\u001b[1m)\u001b[22m\u001b[22m at \u001b[1m/Users/susu/.julia/v0.6/DefferedAcceptance/src/DefferedAcceptance.jl:39\u001b[22m\u001b[22m\n",
      " [5] \u001b[1mmacro expansion\u001b[22m\u001b[22m at \u001b[1m./In[104]:8\u001b[22m\u001b[22m [inlined]\n",
      " [6] \u001b[1manonymous\u001b[22m\u001b[22m at \u001b[1m./<missing>:?\u001b[22m\u001b[22m\n",
      " [7] \u001b[1minclude_string\u001b[22m\u001b[22m\u001b[1m(\u001b[22m\u001b[22m::String, ::String\u001b[1m)\u001b[22m\u001b[22m at \u001b[1m./loading.jl:515\u001b[22m\u001b[22m\n",
      " [8] \u001b[1mexecute_request\u001b[22m\u001b[22m\u001b[1m(\u001b[22m\u001b[22m::ZMQ.Socket, ::IJulia.Msg\u001b[1m)\u001b[22m\u001b[22m at \u001b[1m/Users/susu/.julia/v0.6/IJulia/src/execute_request.jl:160\u001b[22m\u001b[22m\n",
      " [9] \u001b[1meventloop\u001b[22m\u001b[22m\u001b[1m(\u001b[22m\u001b[22m::ZMQ.Socket\u001b[1m)\u001b[22m\u001b[22m at \u001b[1m/Users/susu/.julia/v0.6/IJulia/src/eventloop.jl:8\u001b[22m\u001b[22m\n",
      " [10] \u001b[1m(::IJulia.##11#14)\u001b[22m\u001b[22m\u001b[1m(\u001b[22m\u001b[22m\u001b[1m)\u001b[22m\u001b[22m at \u001b[1m./task.jl:335\u001b[22m\u001b[22m\n",
      "while loading In[104], in expression starting on line 3\n",
      "\u001b[1m\u001b[33mWARNING: \u001b[39m\u001b[22m\u001b[33mArray{T, N}(::Type{T}, d::NTuple{N, Int}) is deprecated, use Array{T}(d) instead.\u001b[39m\n",
      "Stacktrace:\n",
      " [1] \u001b[1mdepwarn\u001b[22m\u001b[22m\u001b[1m(\u001b[22m\u001b[22m::String, ::Symbol\u001b[1m)\u001b[22m\u001b[22m at \u001b[1m./deprecated.jl:70\u001b[22m\u001b[22m\n",
      " [2] \u001b[1mArray\u001b[22m\u001b[22m\u001b[1m(\u001b[22m\u001b[22m::Type{Int64}, ::Tuple{Int64,Int64}\u001b[1m)\u001b[22m\u001b[22m at \u001b[1m./deprecated.jl:57\u001b[22m\u001b[22m\n",
      " [3] \u001b[1mikegamida_mm\u001b[22m\u001b[22m\u001b[1m(\u001b[22m\u001b[22m::Array{Int64,2}, ::Array{Int64,2}, ::Array{Int64,1}\u001b[1m)\u001b[22m\u001b[22m at \u001b[1m/Users/susu/.julia/v0.6/DefferedAcceptance/src/DefferedAcceptance.jl:159\u001b[22m\u001b[22m\n",
      " [4] \u001b[1mikegami\u001b[22m\u001b[22m\u001b[1m(\u001b[22m\u001b[22m::Array{Array{Int64,1},1}, ::Array{Array{Int64,1},1}, ::Array{Int64,1}\u001b[1m)\u001b[22m\u001b[22m at \u001b[1m/Users/susu/.julia/v0.6/DefferedAcceptance/src/DefferedAcceptance.jl:39\u001b[22m\u001b[22m\n",
      " [5] \u001b[1mmacro expansion\u001b[22m\u001b[22m at \u001b[1m./In[104]:8\u001b[22m\u001b[22m [inlined]\n",
      " [6] \u001b[1manonymous\u001b[22m\u001b[22m at \u001b[1m./<missing>:?\u001b[22m\u001b[22m\n",
      " [7] \u001b[1minclude_string\u001b[22m\u001b[22m\u001b[1m(\u001b[22m\u001b[22m::String, ::String\u001b[1m)\u001b[22m\u001b[22m at \u001b[1m./loading.jl:515\u001b[22m\u001b[22m\n",
      " [8] \u001b[1mexecute_request\u001b[22m\u001b[22m\u001b[1m(\u001b[22m\u001b[22m::ZMQ.Socket, ::IJulia.Msg\u001b[1m)\u001b[22m\u001b[22m at \u001b[1m/Users/susu/.julia/v0.6/IJulia/src/execute_request.jl:160\u001b[22m\u001b[22m\n",
      " [9] \u001b[1meventloop\u001b[22m\u001b[22m\u001b[1m(\u001b[22m\u001b[22m::ZMQ.Socket\u001b[1m)\u001b[22m\u001b[22m at \u001b[1m/Users/susu/.julia/v0.6/IJulia/src/eventloop.jl:8\u001b[22m\u001b[22m\n",
      " [10] \u001b[1m(::IJulia.##11#14)\u001b[22m\u001b[22m\u001b[1m(\u001b[22m\u001b[22m\u001b[1m)\u001b[22m\u001b[22m at \u001b[1m./task.jl:335\u001b[22m\u001b[22m\n",
      "while loading In[104], in expression starting on line 3\n",
      "\u001b[1m\u001b[33mWARNING: \u001b[39m\u001b[22m\u001b[33mArray{T, N}(::Type{T}, d::NTuple{N, Int}) is deprecated, use Array{T}(d) instead.\u001b[39m\n",
      "Stacktrace:\n",
      " [1] \u001b[1mdepwarn\u001b[22m\u001b[22m\u001b[1m(\u001b[22m\u001b[22m::String, ::Symbol\u001b[1m)\u001b[22m\u001b[22m at \u001b[1m./deprecated.jl:70\u001b[22m\u001b[22m\n",
      " [2] \u001b[1mArray\u001b[22m\u001b[22m\u001b[1m(\u001b[22m\u001b[22m::Type{Int64}, ::Tuple{Int64,Int64}\u001b[1m)\u001b[22m\u001b[22m at \u001b[1m./deprecated.jl:57\u001b[22m\u001b[22m\n",
      " [3] \u001b[1mikegamida_mm\u001b[22m\u001b[22m\u001b[1m(\u001b[22m\u001b[22m::Array{Int64,2}, ::Array{Int64,2}, ::Array{Int64,1}\u001b[1m)\u001b[22m\u001b[22m at \u001b[1m/Users/susu/.julia/v0.6/DefferedAcceptance/src/DefferedAcceptance.jl:167\u001b[22m\u001b[22m\n",
      " [4] \u001b[1mikegami\u001b[22m\u001b[22m\u001b[1m(\u001b[22m\u001b[22m::Array{Array{Int64,1},1}, ::Array{Array{Int64,1},1}, ::Array{Int64,1}\u001b[1m)\u001b[22m\u001b[22m at \u001b[1m/Users/susu/.julia/v0.6/DefferedAcceptance/src/DefferedAcceptance.jl:39\u001b[22m\u001b[22m\n",
      " [5] \u001b[1mmacro expansion\u001b[22m\u001b[22m at \u001b[1m./In[104]:8\u001b[22m\u001b[22m [inlined]\n",
      " [6] \u001b[1manonymous\u001b[22m\u001b[22m at \u001b[1m./<missing>:?\u001b[22m\u001b[22m\n",
      " [7] \u001b[1minclude_string\u001b[22m\u001b[22m\u001b[1m(\u001b[22m\u001b[22m::String, ::String\u001b[1m)\u001b[22m\u001b[22m at \u001b[1m./loading.jl:515\u001b[22m\u001b[22m\n",
      " [8] \u001b[1mexecute_request\u001b[22m\u001b[22m\u001b[1m(\u001b[22m\u001b[22m::ZMQ.Socket, ::IJulia.Msg\u001b[1m)\u001b[22m\u001b[22m at \u001b[1m/Users/susu/.julia/v0.6/IJulia/src/execute_request.jl:160\u001b[22m\u001b[22m\n",
      " [9] \u001b[1meventloop\u001b[22m\u001b[22m\u001b[1m(\u001b[22m\u001b[22m::ZMQ.Socket\u001b[1m)\u001b[22m\u001b[22m at \u001b[1m/Users/susu/.julia/v0.6/IJulia/src/eventloop.jl:8\u001b[22m\u001b[22m\n",
      " [10] \u001b[1m(::IJulia.##11#14)\u001b[22m\u001b[22m\u001b[1m(\u001b[22m\u001b[22m\u001b[1m)\u001b[22m\u001b[22m at \u001b[1m./task.jl:335\u001b[22m\u001b[22m\n",
      "while loading In[104], in expression starting on line 3\n",
      "\u001b[1m\u001b[33mWARNING: \u001b[39m\u001b[22m\u001b[33mArray{T}(::Type{T}, m::Int) is deprecated, use Array{T}(m) instead.\u001b[39m\n",
      "Stacktrace:\n",
      " [1] \u001b[1mdepwarn\u001b[22m\u001b[22m\u001b[1m(\u001b[22m\u001b[22m::String, ::Symbol\u001b[1m)\u001b[22m\u001b[22m at \u001b[1m./deprecated.jl:70\u001b[22m\u001b[22m\n",
      " [2] \u001b[1mArray\u001b[22m\u001b[22m\u001b[1m(\u001b[22m\u001b[22m::Type{Int64}, ::Int64\u001b[1m)\u001b[22m\u001b[22m at \u001b[1m./deprecated.jl:57\u001b[22m\u001b[22m\n",
      " [3] \u001b[1mikegamida_mm\u001b[22m\u001b[22m\u001b[1m(\u001b[22m\u001b[22m::Array{Int64,2}, ::Array{Int64,2}, ::Array{Int64,1}\u001b[1m)\u001b[22m\u001b[22m at \u001b[1m/Users/susu/.julia/v0.6/DefferedAcceptance/src/DefferedAcceptance.jl:178\u001b[22m\u001b[22m\n",
      " [4] \u001b[1mikegami\u001b[22m\u001b[22m\u001b[1m(\u001b[22m\u001b[22m::Array{Array{Int64,1},1}, ::Array{Array{Int64,1},1}, ::Array{Int64,1}\u001b[1m)\u001b[22m\u001b[22m at \u001b[1m/Users/susu/.julia/v0.6/DefferedAcceptance/src/DefferedAcceptance.jl:39\u001b[22m\u001b[22m\n",
      " [5] \u001b[1mmacro expansion\u001b[22m\u001b[22m at \u001b[1m./In[104]:8\u001b[22m\u001b[22m [inlined]\n",
      " [6] \u001b[1manonymous\u001b[22m\u001b[22m at \u001b[1m./<missing>:?\u001b[22m\u001b[22m\n",
      " [7] \u001b[1minclude_string\u001b[22m\u001b[22m\u001b[1m(\u001b[22m\u001b[22m::String, ::String\u001b[1m)\u001b[22m\u001b[22m at \u001b[1m./loading.jl:515\u001b[22m\u001b[22m\n",
      " [8] \u001b[1mexecute_request\u001b[22m\u001b[22m\u001b[1m(\u001b[22m\u001b[22m::ZMQ.Socket, ::IJulia.Msg\u001b[1m)\u001b[22m\u001b[22m at \u001b[1m/Users/susu/.julia/v0.6/IJulia/src/execute_request.jl:160\u001b[22m\u001b[22m\n",
      " [9] \u001b[1meventloop\u001b[22m\u001b[22m\u001b[1m(\u001b[22m\u001b[22m::ZMQ.Socket\u001b[1m)\u001b[22m\u001b[22m at \u001b[1m/Users/susu/.julia/v0.6/IJulia/src/eventloop.jl:8\u001b[22m\u001b[22m\n",
      " [10] \u001b[1m(::IJulia.##11#14)\u001b[22m\u001b[22m\u001b[1m(\u001b[22m\u001b[22m\u001b[1m)\u001b[22m\u001b[22m at \u001b[1m./task.jl:335\u001b[22m\u001b[22m\n",
      "while loading In[104], in expression starting on line 3\n"
     ]
    }
   ],
   "source": [
    "types = 1\n",
    "    average_mat = ones(num_sch, length(percents))\n",
    "    for (k, percent) in enumerate(percents)\n",
    "        score_mat = ones(num_sch, num_simu)\n",
    "        for i in num_simu\n",
    "            school_prefs, pre = school_pref(i, num_stu, num_sch)\n",
    "            student_prefs = permute_prefs(i, num_stu, num_sch, percent, types)\n",
    "            result = DefferedAcceptance.ikegami(student_prefs, school_prefs, caps)\n",
    "\n",
    "            # average quality calculation\n",
    "            pre_sch = sortrows(pre, by=x->x[1])\n",
    "            resp_matched = result[2]\n",
    "            indptr = result[3]\n",
    "            scores = ones(num_sch)\n",
    "            for j in 1:num_sch\n",
    "                students_list = resp_matched[indptr[j]:indptr[j+1]-1]\n",
    "                scores[j] = mean(pre_sch[students_list, 2])\n",
    "            end\n",
    "            score_mat[:, i] = scores\n",
    "        end\n",
    "        average = mean(score_mat, 2)\n",
    "        average_mat[:, k] = average\n",
    "    end"
   ]
  },
  {
   "cell_type": "code",
   "execution_count": 105,
   "metadata": {
    "collapsed": false
   },
   "outputs": [
    {
     "data": {
      "text/plain": [
       "10×6 Array{Float64,2}:\n",
       " 1.01534   1.01263   1.00963   1.00907   1.00843   1.008   \n",
       " 1.00523   1.00331   1.00193   1.00134   0.999407  0.998433\n",
       " 1.00165   0.999886  0.998178  0.996363  0.995714  0.996221\n",
       " 0.998037  0.997579  0.996078  0.99422   0.993735  0.993249\n",
       " 0.995928  0.997179  0.995051  0.995112  0.99521   0.992791\n",
       " 0.9935    0.993405  0.992952  0.992372  0.992173  0.992995\n",
       " 0.991384  0.993813  0.999399  0.998268  0.997746  0.997436\n",
       " 0.988038  0.986504  0.988992  0.989787  0.992599  0.994876\n",
       " 0.983264  0.987011  0.987831  0.986846  0.988355  0.988075\n",
       " 0.979629  0.980673  0.981954  0.988626  0.988626  0.989923"
      ]
     },
     "execution_count": 105,
     "metadata": {},
     "output_type": "execute_result"
    }
   ],
   "source": [
    "average_mat"
   ]
  },
  {
   "cell_type": "code",
   "execution_count": 92,
   "metadata": {
    "collapsed": false
   },
   "outputs": [
    {
     "data": {
      "text/plain": [
       "3×2 Array{Float64,2}:\n",
       " 1.0  1.0\n",
       " 1.0  1.0\n",
       " 1.0  1.0"
      ]
     },
     "execution_count": 92,
     "metadata": {},
     "output_type": "execute_result"
    }
   ],
   "source": []
  },
  {
   "cell_type": "code",
   "execution_count": 96,
   "metadata": {
    "collapsed": false
   },
   "outputs": [
    {
     "data": {
      "text/plain": [
       "3×1 Array{Float64,2}:\n",
       " 1.0\n",
       " 1.0\n",
       " 1.0"
      ]
     },
     "execution_count": 96,
     "metadata": {},
     "output_type": "execute_result"
    }
   ],
   "source": [
    "mean(a, 2)"
   ]
  },
  {
   "cell_type": "code",
   "execution_count": null,
   "metadata": {
    "collapsed": true
   },
   "outputs": [],
   "source": []
  }
 ],
 "metadata": {
  "kernelspec": {
   "display_name": "Julia 0.6.0",
   "language": "julia",
   "name": "julia-0.6"
  },
  "language_info": {
   "file_extension": ".jl",
   "mimetype": "application/julia",
   "name": "julia",
   "version": "0.6.0"
  }
 },
 "nbformat": 4,
 "nbformat_minor": 0
}
