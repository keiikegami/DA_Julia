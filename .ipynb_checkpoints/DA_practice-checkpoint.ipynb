{
 "cells": [
  {
   "cell_type": "code",
   "execution_count": 46,
   "metadata": {
    "collapsed": false
   },
   "outputs": [
    {
     "data": {
      "text/plain": [
       "ikegamida (generic function with 1 method)"
      ]
     },
     "execution_count": 46,
     "metadata": {},
     "output_type": "execute_result"
    }
   ],
   "source": [
    "function ikegamida(m_prefs, f_prefs)\n",
    "    \n",
    "    m_num, f_num = size(m_prefs)[2], size(f_prefs)[2]\n",
    "    m_pool, f_pool = collect(1:m_num), collect(1:f_num)\n",
    "    match_or_unmatch = Array(Bool, m_num)\n",
    "    for i in 1:m_num\n",
    "        match_or_unmatch[i] = true\n",
    "    end\n",
    "    m_matched, f_matched = ones(Int64, m_num) + f_num, ones(Int64, f_num) + m_num\n",
    "    \n",
    "    m_rank = Array(Int64, (f_num + 1, m_num))\n",
    "    f_rank = Array(Int64, (m_num + 1, f_num))\n",
    "    \n",
    "    sorting = Array(Int64, (f_num + 1, 2))\n",
    "    sorting[:, 1] = collect(1:(f_num + 1))\n",
    "    \n",
    "    for i in 1:m_num\n",
    "        sorting[:, 2] = m_prefs[:, i]\n",
    "        m_rank[:,i] = sortrows(sorting, by = x->(x[2]))[:,1]\n",
    "        sorting = sortrows(sorting, by = x->(x[1]))\n",
    "    end\n",
    "    \n",
    "    \n",
    "    sorting2 = Array(Int64, (m_num + 1, 2))\n",
    "    sorting2[:, 1] = collect(1:(m_num + 1))\n",
    "    \n",
    "    for i in 1:f_num\n",
    "        sorting2[:, 2] = f_prefs[:, i]\n",
    "        f_rank[:,i] = sortrows(sorting2, by = x->(x[2]))[:,1]\n",
    "        sorting2 = sortrows(sorting2, by = x->(x[1]))\n",
    "    end\n",
    "        \n",
    "    while sum(match_or_unmatch) > 0\n",
    "        for i in 1:m_num\n",
    "            if match_or_unmatch[i] == true\n",
    "            \n",
    "                for j in m_prefs[:, i]\n",
    "            \n",
    "                    if j == 0\n",
    "                        m_matched[i] = 0\n",
    "                        match_or_unmatch[i] = false\n",
    "                        break\n",
    "            \n",
    "                    else\n",
    "                        no_marriage = f_rank[1, j]\n",
    "                \n",
    "                        if f_rank[i+1, j] < no_marriage\n",
    "                    \n",
    "                            if f_matched[j] == m_num + 1\n",
    "                                f_matched[j] = i\n",
    "                                m_matched[i] = j\n",
    "                                match_or_unmatch[i] = false\n",
    "                                break\n",
    "                        \n",
    "                            else\n",
    "                    \n",
    "                                if f_rank[f_matched[j]+1, j] > f_rank[i+1, j]\n",
    "                                    match_or_unmatch[f_matched[j]] = true\n",
    "                                    f_matched[j] = i\n",
    "                                    m_matched[i] = j\n",
    "                                    match_or_unmatch[i] = false\n",
    "                                    break\n",
    "                                end\n",
    "                            end\n",
    "                        end\n",
    "                    end\n",
    "                end\n",
    "            end\n",
    "        end\n",
    "    end\n",
    "    \n",
    "    for (i,t) in enumerate(f_matched)\n",
    "        if t == m_num + 1\n",
    "            f_matched[i] = 0\n",
    "        end\n",
    "    end\n",
    "    \n",
    "     for (i,t) in enumerate(m_matched)\n",
    "        if t == f_num + 1\n",
    "            m_matched[i] = 0\n",
    "        end\n",
    "    end\n",
    "    \n",
    "    return m_matched, f_matched\n",
    "end\n"
   ]
  },
  {
   "cell_type": "code",
   "execution_count": 47,
   "metadata": {
    "collapsed": false
   },
   "outputs": [
    {
     "data": {
      "text/plain": [
       "_randperm2d! (generic function with 1 method)"
      ]
     },
     "execution_count": 47,
     "metadata": {},
     "output_type": "execute_result"
    }
   ],
   "source": [
    "include(\"matching_tools.jl\")"
   ]
  },
  {
   "cell_type": "code",
   "execution_count": 48,
   "metadata": {
    "collapsed": false
   },
   "outputs": [],
   "source": [
    "m_prefs, f_prefs = random_prefs(4, 3);"
   ]
  },
  {
   "cell_type": "code",
   "execution_count": 49,
   "metadata": {
    "collapsed": false
   },
   "outputs": [
    {
     "data": {
      "text/plain": [
       "5x3 Array{Int64,2}:\n",
       " 2  3  1\n",
       " 1  2  2\n",
       " 4  0  3\n",
       " 3  1  4\n",
       " 0  4  0"
      ]
     },
     "execution_count": 49,
     "metadata": {},
     "output_type": "execute_result"
    }
   ],
   "source": [
    "f_prefs"
   ]
  },
  {
   "cell_type": "code",
   "execution_count": 50,
   "metadata": {
    "collapsed": false
   },
   "outputs": [
    {
     "data": {
      "text/plain": [
       "([3,2,1,0],[3,2,1])"
      ]
     },
     "execution_count": 50,
     "metadata": {},
     "output_type": "execute_result"
    }
   ],
   "source": [
    "ikegamida(m_prefs, f_prefs)"
   ]
  },
  {
   "cell_type": "code",
   "execution_count": 51,
   "metadata": {
    "collapsed": false
   },
   "outputs": [
    {
     "name": "stdout",
     "output_type": "stream",
     "text": [
      "Test Summary:        | Pass  Total\n",
      "Testing ikegamida.jl |    4      4\n"
     ]
    },
    {
     "name": "stderr",
     "output_type": "stream",
     "text": [
      "WARNING: redefining constant file_name\n",
      "WARNING: redefining constant function_name\n"
     ]
    },
    {
     "data": {
      "text/plain": [
       "BaseTestNext.DefaultTestSet(\"Testing ikegamida.jl\",Any[BaseTestNext.DefaultTestSet(\"ikegamida\",Any[Test Passed\n",
       "  Expression: m_matched_computed == m_matched_expected\n",
       "   Evaluated: [1,2,3,0] == [1,2,3,0],Test Passed\n",
       "  Expression: f_matched_computed == f_matched_expected\n",
       "   Evaluated: [1,2,3] == [1,2,3],Test Passed\n",
       "  Expression: m_matched_computed == m_matched_expected\n",
       "   Evaluated: [1,2,3,0] == [1,2,3,0],Test Passed\n",
       "  Expression: f_matched_computed == f_matched_expected\n",
       "   Evaluated: [1,2,3] == [1,2,3]],false)],false)"
      ]
     },
     "execution_count": 51,
     "metadata": {},
     "output_type": "execute_result"
    }
   ],
   "source": [
    "include(\"test_deferred_acceptance.jl\")"
   ]
  },
  {
   "cell_type": "code",
   "execution_count": null,
   "metadata": {
    "collapsed": true
   },
   "outputs": [],
   "source": []
  }
 ],
 "metadata": {
  "kernelspec": {
   "display_name": "Julia 0.4.5",
   "language": "julia",
   "name": "julia-0.4"
  },
  "language_info": {
   "file_extension": ".jl",
   "mimetype": "application/julia",
   "name": "julia",
   "version": "0.4.5"
  }
 },
 "nbformat": 4,
 "nbformat_minor": 0
}
