{
 "cells": [
  {
   "cell_type": "code",
   "execution_count": 8,
   "metadata": {
    "collapsed": true
   },
   "outputs": [],
   "source": [
    "using DefferedAcceptance"
   ]
  },
  {
   "cell_type": "code",
   "execution_count": 7,
   "metadata": {
    "collapsed": false
   },
   "outputs": [
    {
     "data": {
      "text/plain": [
       "3-element Array{Array{Int64,1},1}:\n",
       " [2,3]    \n",
       " [2,3,4,1]\n",
       " [4,1,2]  "
      ]
     },
     "execution_count": 7,
     "metadata": {},
     "output_type": "execute_result"
    }
   ],
   "source": [
    "m_prefs = [[3], [3, 2, 1], [1, 3, 2], [3, 1]]\n",
    "f_prefs = [[2, 3], [2, 3, 4, 1], [4, 1, 2]]"
   ]
  },
  {
   "cell_type": "code",
   "execution_count": 5,
   "metadata": {
    "collapsed": false
   },
   "outputs": [
    {
     "ename": "LoadError",
     "evalue": "UndefVarError: n_prefs not defined",
     "output_type": "error",
     "traceback": [
      "UndefVarError: n_prefs not defined",
      "",
      " in ikegami(::Array{Array{Int64,1},1}, ::Array{Array{Int64,1},1}) at /Users/susu/.julia/v0.5/DefferedAcceptance/src/DefferedAcceptance.jl:21"
     ]
    }
   ],
   "source": [
    "DefferedAcceptance.ikegami(m_prefs, f_prefs)"
   ]
  },
  {
   "cell_type": "code",
   "execution_count": null,
   "metadata": {
    "collapsed": true
   },
   "outputs": [],
   "source": []
  }
 ],
 "metadata": {
  "kernelspec": {
   "display_name": "Julia 0.5.0",
   "language": "julia",
   "name": "julia-0.5"
  },
  "language_info": {
   "file_extension": ".jl",
   "mimetype": "application/julia",
   "name": "julia",
   "version": "0.5.0"
  }
 },
 "nbformat": 4,
 "nbformat_minor": 0
}
