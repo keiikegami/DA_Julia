{
 "cells": [
  {
   "cell_type": "markdown",
   "metadata": {
    "collapsed": false
   },
   "source": [
    "# DA algorithm many to one\n",
    "## author : kei ikegami"
   ]
  },
  {
   "cell_type": "code",
   "execution_count": 1,
   "metadata": {
    "collapsed": false,
    "scrolled": false
   },
   "outputs": [
    {
     "name": "stdout",
     "output_type": "stream",
     "text": [
      "function ikegamida_mm(prop_prefs::Matrix{Int}, resp_prefs::Matrix{Int}, caps::Vector{Int})\n",
      "    \n",
      "    # set up\n",
      "    prop_num, resp_num = size(prop_prefs)[2], size(resp_prefs)[2]\n",
      "    match_or_unmatch = Array(Bool, prop_num)\n",
      "    for i in 1:prop_num\n",
      "        match_or_unmatch[i] = true\n",
      "    end\n",
      "    prop_matched, resp_matched = ones(Int64, prop_num) + resp_num, ones(Int64, sum(caps)) + prop_num\n",
      "    \n",
      "    prop_rank = Array(Int64, (resp_num + 1, prop_num))\n",
      "    resp_rank = Array(Int64, (prop_num + 1, resp_num))\n",
      "    \n",
      "    sorting = Array(Int64, (resp_num + 1, 2))\n",
      "    sorting[:, 1] = collect(1:(resp_num + 1))\n",
      "    for i in 1:prop_num\n",
      "        sorting[:, 2] = prop_prefs[:, i]\n",
      "        prop_rank[:,i] = sortrows(sorting, by = x->(x[2]))[:,1]\n",
      "        sorting = sortrows(sorting, by = x->(x[1]))\n",
      "    end\n",
      "    \n",
      "    sorting2 = Array(Int64, (prop_num + 1, 2))\n",
      "    sorting2[:, 1] = collect(1:(prop_num + 1))\n",
      "    for i in 1:resp_num\n",
      "        sorting2[:, 2] = resp_prefs[:, i]\n",
      "        resp_rank[:,i] = sortrows(sorting2, by = x->(x[2]))[:,1]\n",
      "        sorting2 = sortrows(sorting2, by = x->(x[1]))\n",
      "    end\n",
      "    \n",
      "    insertarray = ones(Int64, maximum(caps) + 1) * (prop_num+1)\n",
      "    \n",
      "    \n",
      "    #making indptr\n",
      "    indptr = Array(Int, resp_num+1)\n",
      "    indptr[1] = 1\n",
      "    for i in 1:resp_num\n",
      "        indptr[i+1] = indptr[i] + caps[i]\n",
      "    end\n",
      "    \n",
      "    #main loop\n",
      "    while sum(match_or_unmatch) > 0\n",
      "        for i in 1:prop_num\n",
      "            \n",
      "            if match_or_unmatch[i] == true\n",
      "            \n",
      "                for j in prop_prefs[:, i]\n",
      "            \n",
      "                    if j == 0\n",
      "                        prop_matched[i] = 0\n",
      "                        match_or_unmatch[i] = false\n",
      "                        break\n",
      "            \n",
      "                    else\n",
      "                        cutoff = resp_rank[1, j]\n",
      "                \n",
      "                        if resp_rank[i+1, j] < cutoff\n",
      "                            \n",
      "                            #capを超えてないなら無条件まっち\n",
      "                            if prop_num + 1 in resp_matched[indptr[j]:indptr[j+1]-1]\n",
      "                                \n",
      "                                for (m,q) in enumerate(resp_matched[indptr[j]:indptr[j+1]-1])\n",
      "                                    \n",
      "                                    if q == prop_num + 1\n",
      "                                        resp_matched[indptr[j]+m-1] = i\n",
      "                                        prop_matched[i] = j\n",
      "                                        match_or_unmatch[i] = false\n",
      "                                        break\n",
      "                                            \n",
      "                                    else\n",
      "                                        if resp_rank[q+1, j] > resp_rank[i+1, j]      \n",
      "                                            if m == 1\n",
      "                                                insertarray[m+1:length(resp_matched[indptr[j]:indptr[j+1]-1])] = resp_matched[indptr[j]:indptr[j+1]-1][m:end-1]\n",
      "                                                insertarray[m] = i\n",
      "                                            else\n",
      "                                                insertarray[m+1:length(resp_matched[indptr[j]:indptr[j+1]-1])] = resp_matched[indptr[j]:indptr[j+1]-1][m:end-1]\n",
      "                                                insertarray[1:m-1] = resp_matched[indptr[j]:indptr[j+1]-1][1:m-1]  \n",
      "                                                insertarray[m] = i\n",
      "                                            end\n",
      "                                            resp_matched[indptr[j]:indptr[j+1]-1] = insertarray[1:length(resp_matched[indptr[j]:indptr[j+1]-1])]\n",
      "                                            prop_matched[i] = j\n",
      "                                            match_or_unmatch[i] = false\n",
      "                                            break\n",
      "                                        end\n",
      "                                    end\n",
      "                                end\n",
      "                                break\n",
      "                                \n",
      "                                    \n",
      "                            #capを超えてたら競争\n",
      "                            else\n",
      "                                for (n,p) in enumerate(resp_matched[indptr[j]:indptr[j+1]-1])      \n",
      "                                    if resp_rank[p+1, j] > resp_rank[i+1, j]\n",
      "                                        if n == 1\n",
      "                                            insertarray[n+1:length(resp_matched[indptr[j]:indptr[j+1]-1])] = resp_matched[indptr[j]:indptr[j+1]-1][n:end-1]\n",
      "                                            insertarray[n] = i\n",
      "                                        else\n",
      "                                            insertarray[n+1:length(resp_matched[indptr[j]:indptr[j+1]-1])] = resp_matched[indptr[j]:indptr[j+1]-1][n:end-1]\n",
      "                                            insertarray[1:n-1] = resp_matched[indptr[j]:indptr[j+1]-1][1:n-1]\n",
      "                                            insertarray[n] = i\n",
      "                                        end\n",
      "                                        match_or_unmatch[resp_matched[indptr[j]:indptr[j+1]-1][end]] = true\n",
      "                                        prop_matched[resp_matched[indptr[j]:indptr[j+1]-1][end]] = resp_num + 1\n",
      "                                        resp_matched[indptr[j]:indptr[j+1]-1] = insertarray[1:length(resp_matched[indptr[j]:indptr[j+1]-1])]\n",
      "                                        prop_matched[i] = j\n",
      "                                        match_or_unmatch[i]=false\n",
      "                                        break\n",
      "                                    end\n",
      "                                end\n",
      "                                if match_or_unmatch[i] == false\n",
      "                                    break\n",
      "                                end\n",
      "                            end\n",
      "                        end\n",
      "                    end\n",
      "                end\n",
      "            end\n",
      "        end\n",
      "    end\n",
      "    \n",
      "    for (i,t) in enumerate(prop_matched)\n",
      "        if t == resp_num + 1\n",
      "            prop_matched[i] = 0\n",
      "        end\n",
      "    end\n",
      "    \n",
      "    for (i,t) in enumerate(resp_matched)\n",
      "        if t == prop_num + 1\n",
      "            resp_matched[i] = 0\n",
      "        end\n",
      "    end\n",
      "        \n",
      "    return prop_matched, resp_matched, indptr\n",
      "end\n",
      "\n",
      "function ikegamida_mm(prop_prefs::Matrix{Int}, resp_prefs::Matrix{Int})\n",
      "    caps = ones(Int, size(resp_prefs, 2))\n",
      "    prop_matches, resp_matches, indptr = \n",
      "    ikegamida_mm(prop_prefs, resp_prefs, caps)\n",
      "    return prop_matches, resp_matches\n",
      "end\n"
     ]
    }
   ],
   "source": [
    ";cat ikegamida_mm.jl"
   ]
  },
  {
   "cell_type": "markdown",
   "metadata": {},
   "source": [
    "### example"
   ]
  },
  {
   "cell_type": "code",
   "execution_count": 2,
   "metadata": {
    "collapsed": false
   },
   "outputs": [],
   "source": [
    "include(\"ikegamida_mm.jl\");"
   ]
  },
  {
   "cell_type": "code",
   "execution_count": 3,
   "metadata": {
    "collapsed": false
   },
   "outputs": [
    {
     "data": {
      "text/plain": [
       "6x11 Array{Int64,2}:\n",
       " 3  1  4  3  1  4  2  1  4  3  5\n",
       " 1  3  5  4  4  3  5  3  1  1  4\n",
       " 5  4  3  1  2  2  1  2  5  5  1\n",
       " 4  2  1  5  0  1  3  5  0  2  3\n",
       " 0  5  2  0  3  5  0  4  2  4  2\n",
       " 2  0  0  2  5  0  4  0  3  0  0"
      ]
     },
     "execution_count": 3,
     "metadata": {},
     "output_type": "execute_result"
    }
   ],
   "source": [
    "s_prefs = [3, 1, 5, 4, 0, 2,\n",
    "                   1, 3, 4, 2, 5, 0,\n",
    "                   4, 5, 3, 1, 2, 0,\n",
    "                   3, 4, 1, 5, 0, 2,\n",
    "                   1, 4, 2, 0, 3, 5,\n",
    "                   4, 3, 2, 1, 5, 0,\n",
    "                   2, 5, 1, 3, 0, 4,\n",
    "                   1, 3, 2, 5, 4, 0,\n",
    "                   4, 1, 5, 0, 2, 3,\n",
    "                   3, 1, 5, 2, 4, 0,\n",
    "                   5, 4, 1, 3, 2, 0]\n",
    "        s_prefs = reshape(s_prefs, 6, 11)\n"
   ]
  },
  {
   "cell_type": "code",
   "execution_count": 4,
   "metadata": {
    "collapsed": false
   },
   "outputs": [
    {
     "data": {
      "text/plain": [
       "12x5 Array{Int64,2}:\n",
       "  3   5  11  10   2\n",
       "  7   7   6   1   4\n",
       "  9  10   8   2  10\n",
       " 11   6   3  11   7\n",
       "  5   8   2   4   6\n",
       "  4   2   4   9   1\n",
       " 10   3   7   5   8\n",
       "  8  11   1   3   3\n",
       "  6   0  10   6  11\n",
       "  1   1   0   8   9\n",
       "  2   4   5   0   0\n",
       "  0   9   9   7   5"
      ]
     },
     "execution_count": 4,
     "metadata": {},
     "output_type": "execute_result"
    }
   ],
   "source": [
    "c_prefs = [3, 7, 9, 11, 5, 4, 10, 8, 6, 1,\n",
    "                   2, 0, 5, 7, 10, 6, 8, 2, 3, 11,\n",
    "                   0, 1, 4, 9, 11, 6, 8, 3, 2, 4,\n",
    "                   7, 1, 10, 0, 5, 9, 10, 1, 2, 11,\n",
    "                   4, 9, 5, 3, 6, 8, 0, 7, 2, 4,\n",
    "                   10, 7, 6, 1, 8, 3, 11, 9, 0, 5]\n",
    "        c_prefs = reshape(c_prefs, 12, 5)"
   ]
  },
  {
   "cell_type": "code",
   "execution_count": 5,
   "metadata": {
    "collapsed": false
   },
   "outputs": [
    {
     "data": {
      "text/plain": [
       "5-element Array{Int64,1}:\n",
       " 4\n",
       " 1\n",
       " 3\n",
       " 2\n",
       " 1"
      ]
     },
     "execution_count": 5,
     "metadata": {},
     "output_type": "execute_result"
    }
   ],
   "source": [
    "caps = [4, 1, 3, 2, 1]"
   ]
  },
  {
   "cell_type": "code",
   "execution_count": 6,
   "metadata": {
    "collapsed": false
   },
   "outputs": [
    {
     "data": {
      "text/plain": [
       "([3,1,4,3,1,3,2,1,4,1,5],[5,10,8,2,7,6,4,1,9,3,11],[1,5,6,9,11,12])"
      ]
     },
     "execution_count": 6,
     "metadata": {},
     "output_type": "execute_result"
    }
   ],
   "source": [
    "ikegamida_mm(s_prefs, c_prefs, caps)"
   ]
  },
  {
   "cell_type": "markdown",
   "metadata": {},
   "source": [
    "### test failed ?"
   ]
  },
  {
   "cell_type": "code",
   "execution_count": 7,
   "metadata": {
    "collapsed": false
   },
   "outputs": [
    {
     "name": "stdout",
     "output_type": "stream",
     "text": [
      "ikegamida_mm: many-to-one: Test Failed\n",
      "  Expression: c_matched_computed == c_matched_expected\n",
      "   Evaluated: [5,10,8,2,7,6,4,1,9,3,11] == [2,5,8,10,7,1,4,6,3,9,11]\n",
      " in record at /Users/susu/.julia/v0.4/BaseTestNext/src/BaseTestNext.jl:320\n",
      " in do_test at /Users/susu/.julia/v0.4/BaseTestNext/src/BaseTestNext.jl:192\n",
      " [inlined code] from /Users/susu/DA_Julia/test_deferred_acceptance.jl:115\n",
      " in anonymous at no file:0\n",
      " in include at /Applications/Julia-0.4.5.app/Contents/Resources/julia/lib/julia/sys.dylib\n",
      " in include_from_node1 at /Applications/Julia-0.4.5.app/Contents/Resources/julia/lib/julia/sys.dylib\n",
      " in include_string at loading.jl:282\n",
      " in execute_request_0x535c5df2 at /Users/susu/.julia/v0.4/IJulia/src/execute_request.jl:183\n",
      " in eventloop at /Users/susu/.julia/v0.4/IJulia/src/IJulia.jl:143\n",
      " in anonymous at task.jl:447\n",
      "Test Summary:                           | Pass  Fail  Total\n",
      "Testing ikegamida_mm.jl                 |    9     1     10\n",
      "  ikegamida_mm: one-to-one              |    4            4\n",
      "  ikegamida_mm: many-to-one with caps 1 |    3            3\n",
      "  ikegamida_mm: many-to-one             |    2     1      3\n"
     ]
    },
    {
     "ename": "LoadError",
     "evalue": "LoadError: LoadError: Some tests did not pass: 9 passed, 1 failed, 0 errored.\nwhile loading /Users/susu/DA_Julia/test_deferred_acceptance.jl, in expression starting on line 17\nwhile loading In[7], in expression starting on line 1",
     "output_type": "error",
     "traceback": [
      "LoadError: LoadError: Some tests did not pass: 9 passed, 1 failed, 0 errored.\nwhile loading /Users/susu/DA_Julia/test_deferred_acceptance.jl, in expression starting on line 17\nwhile loading In[7], in expression starting on line 1",
      "",
      " in finish at /Users/susu/.julia/v0.4/BaseTestNext/src/BaseTestNext.jl:385",
      " [inlined code] from /Users/susu/.julia/v0.4/BaseTestNext/src/BaseTestNext.jl:559",
      " in anonymous at no file:0",
      " in include at /Applications/Julia-0.4.5.app/Contents/Resources/julia/lib/julia/sys.dylib",
      " in include_from_node1 at /Applications/Julia-0.4.5.app/Contents/Resources/julia/lib/julia/sys.dylib"
     ]
    }
   ],
   "source": [
    "include(\"test_deferred_acceptance.jl\");"
   ]
  },
  {
   "cell_type": "markdown",
   "metadata": {},
   "source": [
    "テストに通らないのは合格者の並び方が違うから？\n",
    "\n",
    "池上のコードでは大学側にとって好ましい順に並べているが、テスト結果ではそうではない？\n",
    "\n",
    "実際受け入れている番号は、テストと池上のコードで一致している。"
   ]
  },
  {
   "cell_type": "code",
   "execution_count": null,
   "metadata": {
    "collapsed": true
   },
   "outputs": [],
   "source": []
  }
 ],
 "metadata": {
  "kernelspec": {
   "display_name": "Julia 0.4.5",
   "language": "julia",
   "name": "julia-0.4"
  },
  "language_info": {
   "file_extension": ".jl",
   "mimetype": "application/julia",
   "name": "julia",
   "version": "0.4.5"
  }
 },
 "nbformat": 4,
 "nbformat_minor": 0
}
