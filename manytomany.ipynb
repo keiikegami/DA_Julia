{
 "cells": [
  {
   "cell_type": "markdown",
   "metadata": {
    "collapsed": false
   },
   "source": [
    "# DA algorithm many to one\n",
    "## author : kei ikegami"
   ]
  },
  {
   "cell_type": "markdown",
   "metadata": {
    "collapsed": false,
    "scrolled": false
   },
   "source": [
    "[code](https://github.com/keiikegami/DA_Julia/blob/master/ikegamida_mm.jl)"
   ]
  },
  {
   "cell_type": "markdown",
   "metadata": {},
   "source": [
    "### example"
   ]
  },
  {
   "cell_type": "code",
   "execution_count": 1,
   "metadata": {
    "collapsed": false
   },
   "outputs": [],
   "source": [
    "include(\"ikegamida_mm.jl\");"
   ]
  },
  {
   "cell_type": "code",
   "execution_count": 2,
   "metadata": {
    "collapsed": false
   },
   "outputs": [
    {
     "data": {
      "text/plain": [
       "6x11 Array{Int64,2}:\n",
       " 3  1  4  3  1  4  2  1  4  3  5\n",
       " 1  3  5  4  4  3  5  3  1  1  4\n",
       " 5  4  3  1  2  2  1  2  5  5  1\n",
       " 4  2  1  5  0  1  3  5  0  2  3\n",
       " 0  5  2  0  3  5  0  4  2  4  2\n",
       " 2  0  0  2  5  0  4  0  3  0  0"
      ]
     },
     "execution_count": 2,
     "metadata": {},
     "output_type": "execute_result"
    }
   ],
   "source": [
    "s_prefs = [3, 1, 5, 4, 0, 2,\n",
    "                   1, 3, 4, 2, 5, 0,\n",
    "                   4, 5, 3, 1, 2, 0,\n",
    "                   3, 4, 1, 5, 0, 2,\n",
    "                   1, 4, 2, 0, 3, 5,\n",
    "                   4, 3, 2, 1, 5, 0,\n",
    "                   2, 5, 1, 3, 0, 4,\n",
    "                   1, 3, 2, 5, 4, 0,\n",
    "                   4, 1, 5, 0, 2, 3,\n",
    "                   3, 1, 5, 2, 4, 0,\n",
    "                   5, 4, 1, 3, 2, 0]\n",
    "        s_prefs = reshape(s_prefs, 6, 11)\n"
   ]
  },
  {
   "cell_type": "code",
   "execution_count": 3,
   "metadata": {
    "collapsed": false
   },
   "outputs": [
    {
     "data": {
      "text/plain": [
       "12x5 Array{Int64,2}:\n",
       "  3   5  11  10   2\n",
       "  7   7   6   1   4\n",
       "  9  10   8   2  10\n",
       " 11   6   3  11   7\n",
       "  5   8   2   4   6\n",
       "  4   2   4   9   1\n",
       " 10   3   7   5   8\n",
       "  8  11   1   3   3\n",
       "  6   0  10   6  11\n",
       "  1   1   0   8   9\n",
       "  2   4   5   0   0\n",
       "  0   9   9   7   5"
      ]
     },
     "execution_count": 3,
     "metadata": {},
     "output_type": "execute_result"
    }
   ],
   "source": [
    "c_prefs = [3, 7, 9, 11, 5, 4, 10, 8, 6, 1,\n",
    "                   2, 0, 5, 7, 10, 6, 8, 2, 3, 11,\n",
    "                   0, 1, 4, 9, 11, 6, 8, 3, 2, 4,\n",
    "                   7, 1, 10, 0, 5, 9, 10, 1, 2, 11,\n",
    "                   4, 9, 5, 3, 6, 8, 0, 7, 2, 4,\n",
    "                   10, 7, 6, 1, 8, 3, 11, 9, 0, 5]\n",
    "        c_prefs = reshape(c_prefs, 12, 5)"
   ]
  },
  {
   "cell_type": "code",
   "execution_count": 4,
   "metadata": {
    "collapsed": false
   },
   "outputs": [
    {
     "data": {
      "text/plain": [
       "5-element Array{Int64,1}:\n",
       " 4\n",
       " 1\n",
       " 3\n",
       " 2\n",
       " 1"
      ]
     },
     "execution_count": 4,
     "metadata": {},
     "output_type": "execute_result"
    }
   ],
   "source": [
    "caps = [4, 1, 3, 2, 1]"
   ]
  },
  {
   "cell_type": "code",
   "execution_count": 5,
   "metadata": {
    "collapsed": false
   },
   "outputs": [
    {
     "data": {
      "text/plain": [
       "([3,1,4,3,1,3,2,1,4,1,5],[5,10,8,2,7,6,4,1,9,3,11],[1,5,6,9,11,12])"
      ]
     },
     "execution_count": 5,
     "metadata": {},
     "output_type": "execute_result"
    }
   ],
   "source": [
    "ikegamida_mm(s_prefs, c_prefs, caps)"
   ]
  },
  {
   "cell_type": "code",
   "execution_count": 6,
   "metadata": {
    "collapsed": false
   },
   "outputs": [
    {
     "name": "stdout",
     "output_type": "stream",
     "text": [
      "Test Summary:           | Pass  Total\n",
      "Testing ikegamida_mm.jl |   10     10\n"
     ]
    }
   ],
   "source": [
    "include(\"test_deferred_acceptance.jl\");"
   ]
  },
  {
   "cell_type": "code",
   "execution_count": null,
   "metadata": {
    "collapsed": true
   },
   "outputs": [],
   "source": []
  }
 ],
 "metadata": {
  "kernelspec": {
   "display_name": "Julia 0.4.5",
   "language": "julia",
   "name": "julia-0.4"
  },
  "language_info": {
   "file_extension": ".jl",
   "mimetype": "application/julia",
   "name": "julia",
   "version": "0.4.5"
  }
 },
 "nbformat": 4,
 "nbformat_minor": 0
}
