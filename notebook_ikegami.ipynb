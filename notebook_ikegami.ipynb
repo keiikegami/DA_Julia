{
 "cells": [
  {
   "cell_type": "markdown",
   "metadata": {},
   "source": [
    "## Ikegami"
   ]
  },
  {
   "cell_type": "code",
   "execution_count": 1,
   "metadata": {
    "collapsed": true
   },
   "outputs": [],
   "source": [
    "using DefferedAcceptance"
   ]
  },
  {
   "cell_type": "code",
   "execution_count": 2,
   "metadata": {
    "collapsed": false
   },
   "outputs": [
    {
     "data": {
      "text/plain": [
       "3-element Array{Array{Int64,1},1}:\n",
       " [2,3]    \n",
       " [2,3,4,1]\n",
       " [4,1,2]  "
      ]
     },
     "execution_count": 2,
     "metadata": {},
     "output_type": "execute_result"
    }
   ],
   "source": [
    "m_prefs = [[3], [3, 2, 1], [1, 3, 2], [3, 1]]\n",
    "f_prefs = [[2, 3], [2, 3, 4, 1], [4, 1, 2]]"
   ]
  },
  {
   "cell_type": "code",
   "execution_count": 3,
   "metadata": {
    "collapsed": false
   },
   "outputs": [
    {
     "data": {
      "text/plain": [
       "([0,2,1,3],[3,2,4])"
      ]
     },
     "execution_count": 3,
     "metadata": {},
     "output_type": "execute_result"
    }
   ],
   "source": [
    "DefferedAcceptance.ikegami(m_prefs, f_prefs)"
   ]
  },
  {
   "cell_type": "code",
   "execution_count": 4,
   "metadata": {
    "collapsed": false
   },
   "outputs": [
    {
     "data": {
      "text/plain": [
       "([3,2,4],[0,2,1,3])"
      ]
     },
     "execution_count": 4,
     "metadata": {},
     "output_type": "execute_result"
    }
   ],
   "source": [
    "DefferedAcceptance.ikegami(f_prefs, m_prefs)"
   ]
  },
  {
   "cell_type": "markdown",
   "metadata": {
    "collapsed": true
   },
   "source": [
    "## many to one"
   ]
  },
  {
   "cell_type": "code",
   "execution_count": 5,
   "metadata": {
    "collapsed": true
   },
   "outputs": [],
   "source": [
    "s_prefs = [\n",
    "    [3, 1, 5, 4],\n",
    "    [1, 3, 4, 2, 5],\n",
    "    [4, 5, 3, 1, 2],\n",
    "    [3, 4, 1, 5],\n",
    "    [1, 4, 2],\n",
    "    [4, 3, 2, 1, 5],\n",
    "    [2, 5, 1, 3],\n",
    "    [1, 3, 2, 5, 4],\n",
    "    [4, 1, 5],\n",
    "    [3, 1, 5, 2, 4],\n",
    "    [5, 4, 1, 3, 2]]\n",
    "\n",
    "c_prefs = [\n",
    "    [3, 7, 9, 11, 5, 4, 10, 8, 6, 1, 2],\n",
    "    [5, 7,10, 6, 8, 2, 3, 11],\n",
    "    [11,6, 8, 3, 2, 4, 7, 1, 10],\n",
    "    [10,1, 2, 11, 4, 9, 5, 3, 6, 8],\n",
    "    [2, 4, 10, 7, 6, 1, 8, 3, 11, 9]]\n",
    "\n",
    "caps = [4, 1, 3, 2, 1];"
   ]
  },
  {
   "cell_type": "code",
   "execution_count": 6,
   "metadata": {
    "collapsed": false
   },
   "outputs": [
    {
     "ename": "LoadError",
     "evalue": "MethodError: no method matching ikegami(::Array{Array{Int64,1},1}, ::Array{Array{Int64,1},1}, ::Array{Int64,1})\u001b[0m\nClosest candidates are:\n  ikegami(::Array{Array{Int64,1},1}, ::Array{Array{Int64,1},1}) at /Users/susu/.julia/v0.5/DefferedAcceptance/src/DefferedAcceptance.jl:4\u001b[0m",
     "output_type": "error",
     "traceback": [
      "MethodError: no method matching ikegami(::Array{Array{Int64,1},1}, ::Array{Array{Int64,1},1}, ::Array{Int64,1})\u001b[0m\nClosest candidates are:\n  ikegami(::Array{Array{Int64,1},1}, ::Array{Array{Int64,1},1}) at /Users/susu/.julia/v0.5/DefferedAcceptance/src/DefferedAcceptance.jl:4\u001b[0m",
      ""
     ]
    }
   ],
   "source": [
    "DefferedAcceptance.ikegami(s_prefs, c_prefs, caps)"
   ]
  },
  {
   "cell_type": "markdown",
   "metadata": {
    "collapsed": true
   },
   "source": [
    "test"
   ]
  },
  {
   "cell_type": "code",
   "execution_count": 5,
   "metadata": {
    "collapsed": false
   },
   "outputs": [
    {
     "name": "stderr",
     "output_type": "stream",
     "text": [
      "\u001b[1m\u001b[34mINFO: Testing DefferedAcceptance\n",
      "\u001b[0m"
     ]
    },
    {
     "name": "stdout",
     "output_type": "stream",
     "text": [
      "\u001b[1m\u001b[37mTest Summary:               | \u001b[0m\u001b[1m\u001b[32mPass  \u001b[0m\u001b[1m\u001b[34mTotal\u001b[0m\n",
      "  Testing deferred acceptance | \u001b[1m\u001b[32m  12  \u001b[0m\u001b[1m\u001b[34m   12\u001b[0m\n"
     ]
    },
    {
     "name": "stderr",
     "output_type": "stream",
     "text": [
      "\u001b[1m\u001b[34mINFO: DefferedAcceptance tests passed\n",
      "\u001b[0m"
     ]
    }
   ],
   "source": [
    "Pkg.test(\"DefferedAcceptance\")"
   ]
  },
  {
   "cell_type": "code",
   "execution_count": null,
   "metadata": {
    "collapsed": true
   },
   "outputs": [],
   "source": []
  }
 ],
 "metadata": {
  "kernelspec": {
   "display_name": "Julia 0.5.0",
   "language": "julia",
   "name": "julia-0.5"
  },
  "language_info": {
   "file_extension": ".jl",
   "mimetype": "application/julia",
   "name": "julia",
   "version": "0.5.0"
  }
 },
 "nbformat": 4,
 "nbformat_minor": 0
}
